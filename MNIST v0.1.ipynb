{
 "cells": [
  {
   "cell_type": "code",
   "execution_count": 1,
   "metadata": {},
   "outputs": [],
   "source": [
    "import numpy as np\n",
    "import matplotlib.pyplot as pyplot\n",
    "import pickle\n",
    "\n",
    "import Dense\n",
    "import mse\n",
    "import ReLU\n",
    "import Sigmoid"
   ]
  },
  {
   "cell_type": "code",
   "execution_count": 2,
   "metadata": {},
   "outputs": [],
   "source": [
    "with open('data_train.pickle', 'rb') as d:\n",
    "    LOADED_DATA = pickle.load(d)"
   ]
  },
  {
   "cell_type": "code",
   "execution_count": 3,
   "metadata": {},
   "outputs": [],
   "source": [
    "#data preparation\n",
    "\n",
    "class One_Hot_Encoder:\n",
    "    def __init__(self, dims):\n",
    "        self.mat = np.diag(np.ones(dims))\n",
    "        \n",
    "    def __call__(self, data):\n",
    "        return self.mat[int(data)]\n",
    "    \n",
    "    \n",
    "def transform_from_pickle(data):\n",
    "    encoder = One_Hot_Encoder(10)\n",
    "    target_after_encoding = [encoder(int(i)) for i in data['target']]\n",
    "    target = np.array(target_after_encoding)\n",
    "    return data['data'], target\n",
    "\n",
    "def train_test_split(data, target, validation_size=0.25, shuffle=True):\n",
    "    assert len(data) == len(target)\n",
    "    if shuffle:\n",
    "        p = np.random.permutation(len(data))\n",
    "        data = data[p]\n",
    "        target = target[p]\n",
    "    partition = int(len(data)*validation_size)\n",
    "    return (data[:partition], data[partition:],\n",
    "            target[:partition], target[partition:])"
   ]
  },
  {
   "cell_type": "code",
   "execution_count": 4,
   "metadata": {},
   "outputs": [
    {
     "data": {
      "text/plain": [
       "8.0"
      ]
     },
     "execution_count": 4,
     "metadata": {},
     "output_type": "execute_result"
    },
    {
     "data": {
      "image/png": "[encoded data removed]",
      "text/plain": [
       "<Figure size 432x288 with 1 Axes>"
      ]
     },
     "metadata": {
      "needs_background": "light"
     },
     "output_type": "display_data"
    }
   ],
   "source": [
    "pyplot.imshow(LOADED_DATA['data'][15].reshape(28,28))\n",
    "LOADED_DATA['target'][15]"
   ]
  },
  {
   "cell_type": "code",
   "execution_count": 5,
   "metadata": {},
   "outputs": [],
   "source": [
    "class net1:\n",
    "    def __init__(self):\n",
    "        self.d1 = Dense.Dense(28*28, 15, 0.1)\n",
    "        self.a1 = ReLU.ReLU()\n",
    "        self.d2 = Dense.Dense(15, 15, 0.1)\n",
    "        self.a2 = ReLU.ReLU()\n",
    "        self.d3 = Dense.Dense(15, 10, 0.1)\n",
    "        self.a3 = ReLU.ReLU()\n",
    "        self.loss = mse.mse()\n",
    "    \n",
    "    def loss_(self, x, y):\n",
    "        return self.loss.forward(x, y)\n",
    "    \n",
    "    def forward(self, x, y=None):\n",
    "        x = self.d1.forward(x)\n",
    "        x = self.a1.forward(x)\n",
    "        x = self.d2.forward(x)\n",
    "        x = self.a2.forward(x)\n",
    "        x = self.d3.forward(x)\n",
    "        x = self.a3.forward(x)\n",
    "        if y is None:\n",
    "            return x\n",
    "        return self.loss_(x, y)\n",
    "    \n",
    "    def backward(self):\n",
    "        loss = self.loss.backward()\n",
    "        loss = self.a3.backward(loss)\n",
    "        loss = self.d3.backward(loss)\n",
    "        loss = self.a2.backward(loss)\n",
    "        loss = self.d2.backward(loss)\n",
    "        loss = self.a1.backward(loss)\n",
    "        loss = self.d1.backward(loss)\n",
    "\n",
    "class net2:\n",
    "    def __init__(self):\n",
    "        self.d1 = Dense.Dense(28*28, 10, 0.1)\n",
    "        self.a1 = Sigmoid.Sigmoid()\n",
    "        self.loss = mse.mse()\n",
    "    \n",
    "    def loss_(self, x, y):\n",
    "        return self.loss.forward(x, y)\n",
    "    \n",
    "    def forward(self, x, y=None):\n",
    "        x = self.d1.forward(x)\n",
    "        x = self.a1.forward(x)\n",
    "        if y is None:\n",
    "            return x\n",
    "        return self.loss_(x, y)\n",
    "    \n",
    "    def backward(self):\n",
    "        loss = self.loss.backward()\n",
    "        loss = self.a1.backward(loss)\n",
    "        loss = self.d1.backward(loss)\n",
    "\n"
   ]
  },
  {
   "cell_type": "code",
   "execution_count": 6,
   "metadata": {},
   "outputs": [],
   "source": [
    "n = net2()\n",
    "train_losses = []\n",
    "valid_losses = []\n",
    "DATA, TARGET = transform_from_pickle(LOADED_DATA)"
   ]
  },
  {
   "cell_type": "code",
   "execution_count": 20,
   "metadata": {
    "scrolled": true
   },
   "outputs": [],
   "source": [
    "epochs = 10\n",
    "for epoch in range(epochs):\n",
    "    train_data, valid_data, train_target, valid_target = train_test_split(DATA, TARGET)\n",
    "    loss = 0\n",
    "    for data, target in zip(train_data, train_target):\n",
    "        loss += n.forward(data, target)\n",
    "        n.backward()\n",
    "    train_losses.append(loss)\n",
    "    loss = 0\n",
    "    for data, target in zip(valid_data, valid_target):\n",
    "        loss += n.forward(data, target)\n",
    "    valid_losses.append(loss)"
   ]
  },
  {
   "cell_type": "code",
   "execution_count": 18,
   "metadata": {
    "scrolled": true
   },
   "outputs": [
    {
     "data": {
      "text/plain": [
       "[<matplotlib.lines.Line2D at 0x9cdea58>]"
      ]
     },
     "execution_count": 18,
     "metadata": {},
     "output_type": "execute_result"
    },
    {
     "data": {
      "image/png": "[encoded data removed]",
      "text/plain": [
       "<Figure size 432x288 with 1 Axes>"
      ]
     },
     "metadata": {
      "needs_background": "light"
     },
     "output_type": "display_data"
    }
   ],
   "source": [
    "start = 2\n",
    "pyplot.plot(train_losses[start:])\n",
    "pyplot.plot(valid_losses[start:])"
   ]
  },
  {
   "cell_type": "code",
   "execution_count": 32,
   "metadata": {},
   "outputs": [
    {
     "name": "stdout",
     "output_type": "stream",
     "text": [
      "[0. 0. 0. 0. 0. 0. 0. 0. 0. 0.]\n"
     ]
    },
    {
     "data": {
      "image/png": "[encoded data removed]",
      "text/plain": [
       "<Figure size 432x288 with 15 Axes>"
      ]
     },
     "metadata": {
      "needs_background": "light"
     },
     "output_type": "display_data"
    }
   ],
   "source": [
    "for i in range(5):\n",
    "    number = np.random.randint(len(LOADED_DATA['data']))\n",
    "    pyplot.subplot(3,5,i+1)\n",
    "    pyplot.imshow(LOADED_DATA['data'][number].reshape(28,28))\n",
    "    pyplot.title(str(np.argmax(n.forward(LOADED_DATA['data'][number]))))\n",
    "print(n.forward(LOADED_DATA['data'][number]))\n",
    "for i in range(10):\n",
    "    pyplot.subplot(3,5,i+6)\n",
    "    pyplot.imshow(n.d1.mt.reshape(10, 28*28,)[i].reshape(28,28))"
   ]
  },
  {
   "cell_type": "code",
   "execution_count": null,
   "metadata": {},
   "outputs": [],
   "source": []
  }
 ],
 "metadata": {
  "kernelspec": {
   "display_name": "Python 3",
   "language": "python",
   "name": "python3"
  },
  "language_info": {
   "codemirror_mode": {
    "name": "ipython",
    "version": 3
   },
   "file_extension": ".py",
   "mimetype": "text/x-python",
   "name": "python",
   "nbconvert_exporter": "python",
   "pygments_lexer": "ipython3",
   "version": "3.7.1"
  }
 },
 "nbformat": 4,
 "nbformat_minor": 2
}
