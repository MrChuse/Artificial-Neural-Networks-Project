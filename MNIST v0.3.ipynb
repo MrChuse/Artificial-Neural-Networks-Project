{
 "cells": [
  {
   "cell_type": "code",
   "execution_count": 1,
   "metadata": {},
   "outputs": [],
   "source": [
    "import numpy as np\n",
    "import matplotlib.pyplot as pyplot\n",
    "import pickle\n",
    "import time\n",
    "\n",
    "import Dense\n",
    "import mse\n",
    "import ReLU\n",
    "import Sigmoid\n",
    "import Softmax\n",
    "import LogLoss"
   ]
  },
  {
   "cell_type": "code",
   "execution_count": 2,
   "metadata": {},
   "outputs": [],
   "source": [
    "with open('data_train.pickle', 'rb') as d:\n",
    "    LOADED_DATA = pickle.load(d)"
   ]
  },
  {
   "cell_type": "code",
   "execution_count": 3,
   "metadata": {},
   "outputs": [],
   "source": [
    "#data preparation\n",
    "\n",
    "class One_Hot_Encoder:\n",
    "    def __init__(self, dims):\n",
    "        self.mat = np.diag(np.ones(dims))\n",
    "        \n",
    "    def __call__(self, data):\n",
    "        return self.mat[int(data)]\n",
    "    \n",
    "    \n",
    "def transform_from_pickle(data):\n",
    "    encoder = One_Hot_Encoder(10)\n",
    "    target_after_encoding = [encoder(int(i)) for i in data['target']]\n",
    "    target = np.array(target_after_encoding)\n",
    "    return data['data'], target\n",
    "\n",
    "def train_test_split(data, target, validation_size=0.25, shuffle=True):\n",
    "    assert len(data) == len(target)\n",
    "    if shuffle:\n",
    "        p = np.random.permutation(len(data))\n",
    "        data = data[p]\n",
    "        target = target[p]\n",
    "    partition = int(len(data)*validation_size)\n",
    "    return (data[:partition], data[partition:],\n",
    "            target[:partition], target[partition:])\n",
    "\n",
    "def standartize(data, epsilon=0.0001):\n",
    "    return (data - np.mean(data, axis=0)) /(np.std(data, axis=0) + epsilon)"
   ]
  },
  {
   "cell_type": "code",
   "execution_count": 4,
   "metadata": {},
   "outputs": [
    {
     "data": {
      "text/plain": [
       "8.0"
      ]
     },
     "execution_count": 4,
     "metadata": {},
     "output_type": "execute_result"
    },
    {
     "data": {
      "image/png": "[encoded data removed]",
      "text/plain": [
       "<Figure size 432x288 with 1 Axes>"
      ]
     },
     "metadata": {
      "needs_background": "light"
     },
     "output_type": "display_data"
    }
   ],
   "source": [
    "pyplot.imshow(LOADED_DATA['data'][15].reshape(28,28))\n",
    "LOADED_DATA['target'][15]"
   ]
  },
  {
   "cell_type": "code",
   "execution_count": 5,
   "metadata": {},
   "outputs": [],
   "source": [
    "class net1:\n",
    "    def __init__(self):\n",
    "        self.d1 = Dense.Dense(28*28, 15, 0.1)\n",
    "        self.a1 = ReLU.ReLU()\n",
    "        self.d2 = Dense.Dense(15, 15, 0.1)\n",
    "        self.a2 = ReLU.ReLU()\n",
    "        self.d3 = Dense.Dense(15, 10, 0.1)\n",
    "        self.a3 = Softmax.Softmax()\n",
    "        self.loss = LogLoss.LogLoss()\n",
    "    \n",
    "    def forward(self, x, y=None):\n",
    "        x = self.d1.forward(x)\n",
    "        x = self.a1.forward(x)\n",
    "        x = self.d2.forward(x)\n",
    "        x = self.a2.forward(x)\n",
    "        x = self.d3.forward(x)\n",
    "        x = self.a3.forward(x)\n",
    "        if y is None:\n",
    "            return x\n",
    "        return self.loss.forward(x, y)\n",
    "    \n",
    "    def backward(self):\n",
    "        loss = self.loss.backward()\n",
    "        loss = self.a3.backward(loss)\n",
    "        loss = self.d3.backward(loss)\n",
    "        loss = self.a2.backward(loss)\n",
    "        loss = self.d2.backward(loss)\n",
    "        loss = self.a1.backward(loss)\n",
    "        loss = self.d1.backward(loss)\n",
    "\n",
    "class net2:\n",
    "    def __init__(self):\n",
    "        self.d1 = Dense.Dense(28*28, 10000, 0.1)\n",
    "        self.a1 = Sigmoid.Sigmoid()\n",
    "        self.d2 = Dense.Dense(10000, 10, 0.1)\n",
    "        self.a2 = Softmax.Softmax()\n",
    "        self.loss = LogLoss.LogLoss()\n",
    "    \n",
    "    def forward(self, x, y=None):\n",
    "        x = self.d1.forward(x)\n",
    "        x = self.a1.forward(x)\n",
    "        x = self.d2.forward(x)\n",
    "        x = self.a2.forward(x)\n",
    "        if y is None:\n",
    "            return x\n",
    "        return self.loss.forward(x, y)\n",
    "    \n",
    "    def backward(self):\n",
    "        loss = self.loss.backward()\n",
    "        loss = self.a2.backward(loss)\n",
    "        loss = self.d2.backward(loss)\n",
    "        loss = self.a1.backward(loss)\n",
    "        loss = self.d1.backward(loss)\n",
    "\n"
   ]
  },
  {
   "cell_type": "code",
   "execution_count": 6,
   "metadata": {},
   "outputs": [],
   "source": [
    "n = net2()\n",
    "train_losses = []\n",
    "valid_losses = []\n",
    "DATA, TARGET = transform_from_pickle(LOADED_DATA)\n",
    "DATA = standartize(DATA)"
   ]
  },
  {
   "cell_type": "code",
   "execution_count": 7,
   "metadata": {},
   "outputs": [
    {
     "name": "stdout",
     "output_type": "stream",
     "text": [
      "[ 0.00000000e+00  0.00000000e+00  0.00000000e+00  0.00000000e+00\n",
      "  0.00000000e+00  0.00000000e+00  0.00000000e+00  0.00000000e+00\n",
      "  0.00000000e+00  0.00000000e+00  0.00000000e+00  0.00000000e+00\n",
      " -4.72220132e-03 -6.15175274e-03 -4.36393645e-03 -4.35331626e-03\n",
      "  0.00000000e+00  0.00000000e+00  0.00000000e+00  0.00000000e+00\n",
      "  0.00000000e+00  0.00000000e+00  0.00000000e+00  0.00000000e+00\n",
      "  0.00000000e+00  0.00000000e+00  0.00000000e+00  0.00000000e+00\n",
      "  0.00000000e+00  0.00000000e+00  0.00000000e+00  0.00000000e+00\n",
      " -4.35815819e-03 -6.13561365e-03 -7.75664345e-03 -1.16361553e-02\n",
      " -1.55312988e-02 -2.00623957e-02 -2.56754587e-02 -3.03022807e-02\n",
      " -3.07933757e-02 -3.09911694e-02 -3.28690511e-02 -3.10324961e-02\n",
      " -3.03251844e-02 -2.78206563e-02 -2.24557780e-02 -1.88012902e-02\n",
      " -1.69911644e-02 -1.09716429e-02 -8.89900734e-03 -4.68262176e-03\n",
      "  0.00000000e+00  0.00000000e+00  0.00000000e+00  0.00000000e+00\n",
      "  0.00000000e+00  0.00000000e+00  0.00000000e+00 -5.76372390e-03\n",
      " -8.56701076e-03 -1.23302973e-02 -1.77818566e-02 -2.82046898e-02\n",
      " -3.83935611e-02 -5.45033180e-02 -7.10750638e-02 -8.80367569e-02\n",
      " -1.03553357e-01 -1.19051583e-01 -1.30878017e-01 -1.38269310e-01\n",
      " -1.36762094e-01 -1.28434404e-01 -1.17580155e-01 -9.90743368e-02\n",
      " -7.70817266e-02 -5.57272708e-02 -3.90550066e-02 -2.21999162e-02\n",
      " -1.23286452e-02 -6.03446028e-03  0.00000000e+00  0.00000000e+00\n",
      "  0.00000000e+00  0.00000000e+00 -5.32497490e-03 -9.30140888e-03\n",
      " -1.21841755e-02 -2.06278741e-02 -3.45717654e-02 -5.50078066e-02\n",
      " -7.96629288e-02 -1.08869754e-01 -1.40103217e-01 -1.70871990e-01\n",
      " -2.00113150e-01 -2.27552877e-01 -2.48958960e-01 -2.60504657e-01\n",
      " -2.59549048e-01 -2.43257418e-01 -2.17302643e-01 -1.84161023e-01\n",
      " -1.46626449e-01 -1.08755545e-01 -7.78145531e-02 -4.87655683e-02\n",
      " -2.96194207e-02 -1.40772277e-02 -4.36378595e-03  0.00000000e+00\n",
      "  0.00000000e+00  0.00000000e+00 -7.30562751e-03 -1.50334543e-02\n",
      " -2.47541385e-02 -4.88198853e-02 -7.74008653e-02 -1.15929647e-01\n",
      " -1.61178217e-01 -2.13623773e-01 -2.69861804e-01 -3.28667074e-01\n",
      " -3.93676443e-01 -4.55002473e-01 -5.02022796e-01 -5.25600939e-01\n",
      " -5.17826223e-01 -4.79262383e-01 -4.19396828e-01 -3.54479649e-01\n",
      " -2.84186033e-01 -2.17237267e-01 -1.59117021e-01 -1.09016770e-01\n",
      " -7.00849947e-02 -3.83127560e-02 -1.55929341e-02 -4.36281262e-03\n",
      "  0.00000000e+00  0.00000000e+00 -1.00274935e-02 -2.25968494e-02\n",
      " -5.30237160e-02 -9.02765426e-02 -1.39660386e-01 -1.97292882e-01\n",
      " -2.64228298e-01 -3.41745883e-01 -4.26490133e-01 -5.21496218e-01\n",
      " -6.20642159e-01 -7.19904032e-01 -7.96714488e-01 -8.36347663e-01\n",
      " -8.25045063e-01 -7.63641005e-01 -6.67483098e-01 -5.57113060e-01\n",
      " -4.49947102e-01 -3.47998044e-01 -2.61208402e-01 -1.89372277e-01\n",
      " -1.29102298e-01 -7.39476018e-02 -3.48927129e-02 -7.76053094e-03\n",
      "  0.00000000e+00 -5.93788144e-03 -1.58474106e-02 -3.61692314e-02\n",
      " -7.99922039e-02 -1.32429048e-01 -1.98010920e-01 -2.74519008e-01\n",
      " -3.63371428e-01 -4.64672225e-01 -5.78723938e-01 -7.03527696e-01\n",
      " -8.34148315e-01 -9.59809533e-01 -8.53945162e-01 -2.09414477e-01\n",
      "  7.48144933e-01  1.26412931e+00  1.00796142e+00  2.08145742e-01\n",
      "  4.02825180e-01 -4.52322942e-01 -3.38266834e-01 -2.46347107e-01\n",
      " -1.72116305e-01 -1.03309419e-01 -4.88874801e-02 -1.70155198e-02\n",
      " -4.36227271e-03 -1.41438337e-02 -2.64304914e-02 -5.89323901e-02\n",
      " -1.13906783e-01 -1.76968864e-01 -2.55566561e-01 -3.49014019e-01\n",
      " -4.60540140e-01 -5.86481591e-01 -7.28906505e-01 -7.71406893e-01\n",
      "  1.59516455e-02  6.94890254e-01  1.00565744e+00  8.39842335e-01\n",
      "  6.74732598e-01 -2.07164242e-01  2.02021395e-01  4.61133485e-01\n",
      " -6.41360061e-01 -5.32051429e-01 -3.95613531e-01 -2.85261249e-01\n",
      " -1.96861287e-01 -1.21905873e-01 -5.54200785e-02 -1.62213346e-02\n",
      " -4.36387586e-03 -1.96337786e-02 -4.24722506e-02 -8.46581792e-02\n",
      " -1.39802973e-01 -2.10023091e-01 -2.97560950e-01 -4.05302879e-01\n",
      " -5.34523659e-01 -6.54347668e-01 -1.22384664e-01  1.07957441e+00\n",
      "  1.15101335e+00  6.05640346e-01 -6.37963779e-02 -1.06698211e+00\n",
      " -1.10980739e+00 -1.10423863e+00  5.50701984e-01 -7.59305966e-01\n",
      " -7.37228122e-01 -5.67979507e-01 -4.20432695e-01 -2.96209092e-01\n",
      " -1.97749166e-01 -1.22752312e-01 -5.53987392e-02 -1.46478117e-02\n",
      " -6.31277150e-03 -2.28618839e-02 -5.18404025e-02 -9.43340715e-02\n",
      " -1.50994212e-01 -2.25195330e-01 -3.20778651e-01 -4.41616965e-01\n",
      " -8.72310906e-02  1.18179031e+00  8.50790911e-01 -9.33415041e-02\n",
      " -9.32878199e-01 -9.46677737e-01 -9.07217041e-01 -9.13488331e-01\n",
      " -9.56646128e-01 -1.28406877e-02 -1.57781882e-01 -9.02097894e-01\n",
      " -7.35061358e-01 -5.64102828e-01 -4.17203838e-01 -2.88041666e-01\n",
      " -1.81279439e-01 -1.04862442e-01 -4.77783206e-02 -1.44214970e-02\n",
      " -6.17090318e-03 -2.28899371e-02 -5.03474063e-02 -9.13398384e-02\n",
      " -1.45260770e-01 -2.24261882e-01 -3.29482977e-01  5.97136717e-01\n",
      "  1.28959951e+00 -3.13852304e-01 -8.87842399e-01 -9.32830340e-01\n",
      " -8.67004554e-01 -7.93277051e-01 -7.70925414e-01 -8.03571238e-01\n",
      "  5.50771435e-02  1.44419316e-01 -6.94031656e-01 -8.64622322e-01\n",
      " -7.00118918e-01 -5.33942631e-01 -3.94908183e-01 -2.69794320e-01\n",
      " -1.58605764e-01 -7.89912106e-02 -3.76041630e-02 -1.28006570e-02\n",
      " -7.54148621e-03 -2.07078330e-02 -4.33068492e-02 -7.94666648e-02\n",
      " -1.33653825e-01 -2.21678237e-01 -3.35841735e-01  1.65144401e+00\n",
      "  1.48465904e+00 -5.19289322e-01 -9.02111632e-01 -8.71798485e-01\n",
      " -7.81281336e-01 -7.31037932e-01 -7.39940653e-01 -4.66768027e-01\n",
      "  7.88967714e-01 -7.54900002e-01 -9.59336694e-01 -8.27019928e-01\n",
      " -6.56225299e-01 -4.97322402e-01 -3.68884815e-01 -2.56879286e-01\n",
      " -1.49050775e-01 -6.13680017e-02 -2.82757500e-02 -8.76843269e-03\n",
      " -5.66986112e-03 -1.70130767e-02 -3.46039278e-02 -6.51721459e-02\n",
      " -1.23441123e-01 -2.22579194e-01 -3.50969453e-01 -3.69442437e-01\n",
      "  5.84214069e-01  1.23705844e+00  7.67247101e-01 -4.99465730e-01\n",
      " -7.65640247e-01 -7.70395756e-01 -8.22038030e-01  3.22237228e-01\n",
      " -4.16123199e-01 -1.06259011e+00 -9.70676767e-01 -7.95627743e-01\n",
      " -6.16954102e-01 -4.69190569e-01 -3.54922265e-01 -2.54745668e-01\n",
      " -1.54561743e-01 -5.49233936e-02 -2.11145412e-02 -9.13267035e-03\n",
      " -4.36127655e-03 -1.19490332e-02 -2.54908877e-02 -5.46292315e-02\n",
      " -1.21280907e-01 -2.36152967e-01 -3.73410645e-01 -5.34136695e-01\n",
      " -7.04583493e-01 -5.92649225e-01  4.44743297e-01  1.46451147e+00\n",
      "  8.74172645e-01 -2.21446832e-01  2.11016400e-01 -3.92011241e-01\n",
      " -1.18825463e+00 -1.13250250e+00 -9.81835833e-01 -7.77965907e-01\n",
      " -5.96506314e-01 -4.60711035e-01 -3.55271887e-01 -2.63438440e-01\n",
      " -1.64765429e-01 -5.90040003e-02 -2.05836690e-02 -6.13566080e-03\n",
      "  0.00000000e+00 -7.71441602e-03 -1.75817575e-02 -4.89548453e-02\n",
      " -1.26877317e-01 -2.56698016e-01 -3.95012481e-01 -5.51032643e-01\n",
      " -7.08889358e-01 -8.27549440e-01 -8.67698551e-01 -5.09461633e-01\n",
      "  2.62480404e-01  1.15059949e+00  1.09368670e+00 -4.27847848e-01\n",
      " -1.25240464e+00 -1.14287247e+00 -9.67851173e-01 -7.65815144e-01\n",
      " -5.97203585e-01 -4.72094665e-01 -3.67512263e-01 -2.73287032e-01\n",
      " -1.72953448e-01 -6.90028617e-02 -2.35337652e-02 -6.34435822e-03\n",
      " -4.35015999e-03 -4.47823869e-03 -1.84915663e-02 -5.17380453e-02\n",
      " -1.39025093e-01 -2.76757638e-01 -4.12045005e-01 -5.54212220e-01\n",
      " -6.92303651e-01 -7.92536836e-01 -8.41627128e-01 -8.68175194e-01\n",
      " -9.01354356e-01  4.07415312e-01  5.54429659e-01  1.00369000e+00\n",
      "  1.22730673e-01 -9.32373916e-01 -9.25972433e-01 -7.55610934e-01\n",
      " -6.11118829e-01 -4.87473609e-01 -3.80322467e-01 -2.77139926e-01\n",
      " -1.74805792e-01 -7.74191114e-02 -2.83420657e-02 -1.04691029e-02\n",
      " -4.36190075e-03 -6.69835732e-03 -2.22027673e-02 -6.05743081e-02\n",
      " -1.57209324e-01 -2.97246059e-01 -4.21655394e-01 -5.46143884e-01\n",
      " -6.60477756e-01 -7.42445034e-01 -7.89400219e-01 -8.34072423e-01\n",
      " -2.64606055e-01  1.68614474e-01 -1.12182730e+00 -1.04297328e-01\n",
      "  1.11601486e+00  7.09747409e-01 -8.55870117e-01 -7.47301140e-01\n",
      " -6.19978632e-01 -4.95701775e-01 -3.80006779e-01 -2.71882925e-01\n",
      " -1.72442747e-01 -8.43033935e-02 -3.31870711e-02 -9.65411881e-03\n",
      "  0.00000000e+00 -8.40694721e-03 -2.52188732e-02 -7.37409102e-02\n",
      " -1.78629745e-01 -3.13557635e-01 -4.29271007e-01 -5.36555214e-01\n",
      " -6.25207153e-01 -6.87187493e-01 -7.25773547e-01 -7.18621589e-01\n",
      "  4.82683334e-01 -7.12186841e-01 -1.00625224e+00 -1.03440095e+00\n",
      " -3.21003230e-01  1.14289941e+00 -7.90226519e-02 -7.46256611e-01\n",
      " -6.18373043e-01 -4.88031078e-01 -3.67221819e-01 -2.58811402e-01\n",
      " -1.65927244e-01 -8.69056395e-02 -3.58411404e-02 -1.07730227e-02\n",
      " -6.15027208e-03 -7.65377659e-03 -3.41806950e-02 -9.13083262e-02\n",
      " -1.99478106e-01 -3.28194907e-01 -4.40629884e-01 -5.36876701e-01\n",
      " -6.10718868e-01 -6.62544544e-01 -6.99784598e-01 -1.40627368e-01\n",
      "  4.02624229e-01 -8.71214845e-01 -9.59950541e-01 -1.01440400e+00\n",
      " -1.01355217e+00  4.27978716e-01  3.22703610e-01 -7.39721240e-01\n",
      " -6.00030940e-01 -4.65332154e-01 -3.45968740e-01 -2.43425892e-01\n",
      " -1.56686765e-01 -8.54258759e-02 -3.32712798e-02 -9.47691993e-03\n",
      "  0.00000000e+00 -1.02730648e-02 -3.94456004e-02 -1.04301274e-01\n",
      " -2.11580676e-01 -3.37565698e-01 -4.51838156e-01 -5.53524677e-01\n",
      " -6.35299495e-01 -6.96934266e-01 -7.41550442e-01  3.82469575e-01\n",
      " -3.67247443e-01 -9.18347748e-01 -1.01127574e+00 -1.06580261e+00\n",
      " -1.05466948e+00  1.48790843e-01 -9.59613583e-02 -7.07243586e-01\n",
      " -5.59368505e-01 -4.27245045e-01 -3.14355810e-01 -2.18146418e-01\n",
      " -1.40265968e-01 -7.89656054e-02 -3.00016506e-02 -7.39145780e-03\n",
      "  0.00000000e+00 -9.86844365e-03 -4.34515631e-02 -1.08773358e-01\n",
      " -2.08720562e-01 -3.29907678e-01 -4.54075246e-01 -5.69222490e-01\n",
      " -6.74461216e-01 -7.62815941e-01 -8.32092762e-01  9.47574196e-01\n",
      " -9.59216078e-01 -1.05358879e+00 -1.12586739e+00 -1.13549039e+00\n",
      " -1.07116472e+00  5.87832542e-01 -4.56150832e-01 -6.30803736e-01\n",
      " -4.89087429e-01 -3.67310161e-01 -2.67276875e-01 -1.84620732e-01\n",
      " -1.20179461e-01 -6.55216338e-02 -2.53935629e-02 -6.16996960e-03\n",
      " -4.36127655e-03 -8.78228926e-03 -4.05393388e-02 -9.86621268e-02\n",
      " -1.87479152e-01 -2.98218472e-01 -4.26424286e-01 -5.54552887e-01\n",
      " -6.81240559e-01 -8.02363749e-01 -3.89985474e-01  5.22061478e-01\n",
      " -1.10282025e+00 -1.18373537e+00 -1.20008310e+00 -1.13350125e+00\n",
      " -7.56442386e-01  6.39641345e-01 -6.49507142e-01 -5.23077206e-01\n",
      " -3.97967155e-01 -2.93753214e-01 -2.09015867e-01 -1.44259953e-01\n",
      " -9.35865937e-02 -4.63145363e-02 -1.71158476e-02 -4.36183672e-03\n",
      " -4.36117589e-03 -5.66113385e-03 -3.21694511e-02 -7.75525327e-02\n",
      " -1.47139127e-01 -2.42855355e-01 -3.58344009e-01 -4.85743322e-01\n",
      " -6.21715818e-01 -7.56798795e-01  5.98499726e-01 -3.66731491e-02\n",
      " -1.08590399e+00 -1.11927394e+00 -1.08078355e+00 -9.68252498e-01\n",
      "  2.21902084e-01  4.81150113e-01 -5.23791694e-01 -4.01182043e-01\n",
      " -3.01204461e-01 -2.18979692e-01 -1.54852474e-01 -1.05471612e-01\n",
      " -6.72600723e-02 -3.54182542e-02 -9.81032357e-03 -4.36301090e-03\n",
      "  0.00000000e+00  0.00000000e+00 -2.17128192e-02 -5.08386455e-02\n",
      " -9.93475844e-02 -1.67528823e-01 -2.59730324e-01 -3.68904889e-01\n",
      " -4.88232069e-01 -6.13316619e-01  1.16833080e+00 -7.68659145e-01\n",
      " -9.01517226e-01 -9.03766718e-01 -8.44697625e-01 -5.45453921e-01\n",
      "  1.42006906e+00 -4.68660748e-01 -3.79907167e-01 -2.87134919e-01\n",
      " -2.11617893e-01 -1.50510299e-01 -1.06514311e-01 -7.03346302e-02\n",
      " -4.14595535e-02 -1.92304320e-02 -8.44362136e-03  0.00000000e+00\n",
      "  0.00000000e+00  0.00000000e+00 -8.89136292e-03 -2.74607590e-02\n",
      " -5.67629225e-02 -9.35543397e-02 -1.51473450e-01 -2.22168188e-01\n",
      " -3.02446837e-01 -1.98172929e-01  2.60761886e+00 -4.51466260e-01\n",
      " -5.64976689e-01 -5.63627354e-01 -5.29394768e-01  1.70625548e+00\n",
      "  5.16970105e-01 -3.26442389e-01 -2.54822552e-01 -1.92181143e-01\n",
      " -1.41531156e-01 -9.76232251e-02 -6.80055879e-02 -4.33272578e-02\n",
      " -2.40714229e-02 -1.09541251e-02 -5.07987704e-03  0.00000000e+00\n",
      "  0.00000000e+00  0.00000000e+00 -6.15152236e-03 -9.35785325e-03\n",
      " -2.69560463e-02 -5.09691944e-02 -8.54735219e-02 -1.27476589e-01\n",
      " -1.75216522e-01  9.96635387e-02  4.67146429e+00 -1.69035913e-01\n",
      " -3.08466039e-01 -3.08208176e-01  1.77030182e+00  2.69041660e+00\n",
      " -2.33650184e-01 -1.99191783e-01 -1.60630844e-01 -1.25445427e-01\n",
      " -9.28484881e-02 -6.38886434e-02 -4.47372516e-02 -2.56119422e-02\n",
      " -1.54417435e-02 -6.06626852e-03 -4.36343803e-03  0.00000000e+00\n",
      "  0.00000000e+00  0.00000000e+00  0.00000000e+00 -4.36176933e-03\n",
      " -1.38440051e-02 -3.07702159e-02 -5.25780569e-02 -7.88942608e-02\n",
      " -1.06897241e-01 -1.31452182e-01 -1.55089387e-01 -1.73766287e-01\n",
      " -1.82862957e-01 -1.81098276e-01 -1.70371604e-01 -1.52660215e-01\n",
      " -1.34719511e-01 -1.17833626e-01 -9.45816930e-02 -7.35021933e-02\n",
      " -5.32246123e-02 -3.78715622e-02 -2.34452227e-02 -1.25374559e-02\n",
      " -5.05959640e-03 -4.36270508e-03  0.00000000e+00  0.00000000e+00\n",
      "  0.00000000e+00  0.00000000e+00  0.00000000e+00  0.00000000e+00\n",
      " -6.18863699e-03 -9.67849909e-03 -1.55692655e-02 -2.19511629e-02\n",
      " -2.61809251e-02 -3.04037881e-02 -4.20101498e-02 -4.59706504e-02\n",
      " -5.09914356e-02 -5.50494497e-02 -5.95409150e-02 -5.58367559e-02\n",
      " -5.03074227e-02 -4.15299549e-02 -3.30011991e-02 -2.51333820e-02\n",
      " -1.78094683e-02 -1.10631552e-02 -8.74514269e-03 -4.36267588e-03\n",
      "  0.00000000e+00  0.00000000e+00  0.00000000e+00  0.00000000e+00]\n"
     ]
    },
    {
     "name": "stdout",
     "output_type": "stream",
     "text": [
      "0.953602778977499\n",
      "-1.2781483031019878e-18\n"
     ]
    },
    {
     "data": {
      "image/png": "[encoded data removed]",
      "text/plain": [
       "<Figure size 432x288 with 2 Axes>"
      ]
     },
     "metadata": {
      "needs_background": "light"
     },
     "output_type": "display_data"
    }
   ],
   "source": [
    "pyplot.subplot(1, 2, 1)\n",
    "pyplot.imshow(DATA[15].reshape(28,28), cmap='gray')\n",
    "pyplot.subplot(1, 2, 2)\n",
    "pyplot.imshow(LOADED_DATA['data'][15].reshape(28,28), cmap='gray')\n",
    "print(DATA[15])\n",
    "TARGET[15]\n",
    "print(np.std(DATA))\n",
    "print(np.mean(DATA))"
   ]
  },
  {
   "cell_type": "code",
   "execution_count": 19,
   "metadata": {
    "scrolled": false
   },
   "outputs": [
    {
     "name": "stdout",
     "output_type": "stream",
     "text": [
      "epoch # 0 time 1326.1828532218933 loss = 128001.59881121379\n",
      "epoch # 1 time 1336.9094667434692 loss = 128001.57987079842\n",
      "epoch # 2 time 1317.3493480682373 loss = 128001.54719304806\n",
      "epoch # 3 time 1369.8263494968414 loss = 128001.55351698253\n",
      "epoch # 4 time 1316.9463250637054 loss = 128001.62198232856\n",
      "epoch # 5 time 1283.562415599823 loss = 128001.62360813977\n",
      "7950.77875828743\n"
     ]
    }
   ],
   "source": [
    "t1 = time.time()\n",
    "epochs = 6\n",
    "for epoch in range(epochs):\n",
    "    t_start_epoch = time.time()\n",
    "    train_data, valid_data, train_target, valid_target = train_test_split(DATA, TARGET)\n",
    "    loss = 0\n",
    "    for index, (data, target) in enumerate(zip(train_data, train_target)):\n",
    "        t_start_thousand = time.time()\n",
    "        loss += n.forward(data, target)\n",
    "        n.backward()\n",
    "    train_losses.append(loss)\n",
    "    loss = 0\n",
    "    for data, target in zip(valid_data, valid_target):\n",
    "        loss += n.forward(data, target)\n",
    "    valid_losses.append(loss)\n",
    "    t_end_epoch = time.time()\n",
    "    print('epoch #', epoch, 'time', t_end_epoch - t_start_epoch, 'loss =', loss)\n",
    "t2 = time.time()\n",
    "print(t2 - t1)"
   ]
  },
  {
   "cell_type": "code",
   "execution_count": 20,
   "metadata": {
    "scrolled": true
   },
   "outputs": [
    {
     "data": {
      "text/plain": [
       "[<matplotlib.lines.Line2D at 0x87138d0>]"
      ]
     },
     "execution_count": 20,
     "metadata": {},
     "output_type": "execute_result"
    },
    {
     "data": {
      "image/png": "[encoded data removed]",
      "text/plain": [
       "<Figure size 432x288 with 1 Axes>"
      ]
     },
     "metadata": {
      "needs_background": "light"
     },
     "output_type": "display_data"
    }
   ],
   "source": [
    "start = 0\n",
    "pyplot.plot(train_losses[start:])\n",
    "pyplot.plot(valid_losses[start:])"
   ]
  },
  {
   "cell_type": "code",
   "execution_count": 21,
   "metadata": {},
   "outputs": [
    {
     "name": "stdout",
     "output_type": "stream",
     "text": [
      "[[0.09999699 0.09999547 0.10000425 0.0999915  0.10001738 0.10001333\n",
      "  0.10000796 0.09998492 0.10002495 0.09996325]]\n",
      "(1, 10)\n"
     ]
    },
    {
     "data": {
      "image/png": "[encoded data removed]",
      "text/plain": [
       "<Figure size 432x288 with 15 Axes>"
      ]
     },
     "metadata": {
      "needs_background": "light"
     },
     "output_type": "display_data"
    }
   ],
   "source": [
    "for i in range(5):\n",
    "    number = np.random.randint(len(DATA))\n",
    "    pyplot.subplot(3, 5, i+1)\n",
    "    pyplot.imshow(DATA[number].reshape(28, 28))\n",
    "    pyplot.title(str(np.argmax(n.forward(DATA[number]))) + ' ' + str(number))\n",
    "print(n.forward(DATA[number]))\n",
    "print(n.forward(DATA[number]).shape)\n",
    "for i in range(10):\n",
    "    pyplot.subplot(3, 5, i+6)\n",
    "    pyplot.imshow(np.transpose(n.d1.mt, (1, 0))[i].reshape(28, 28))"
   ]
  },
  {
   "cell_type": "code",
   "execution_count": 15,
   "metadata": {},
   "outputs": [
    {
     "name": "stdout",
     "output_type": "stream",
     "text": [
      "[[0.09999699 0.09999547 0.10000425 0.0999915  0.10001738 0.10001333\n",
      "  0.10000796 0.09998492 0.10002495 0.09996325]]\n",
      "8\n"
     ]
    },
    {
     "data": {
      "image/png": "[encoded data removed]",
      "text/plain": [
       "<Figure size 432x288 with 1 Axes>"
      ]
     },
     "metadata": {
      "needs_background": "light"
     },
     "output_type": "display_data"
    }
   ],
   "source": [
    "pyplot.imshow(DATA[number].reshape(28, 28))\n",
    "answer = n.forward(DATA[number])\n",
    "print(answer)\n",
    "print(np.argmax(answer))\n"
   ]
  },
  {
   "cell_type": "code",
   "execution_count": null,
   "metadata": {},
   "outputs": [],
   "source": [
    "np.array((1,2))*np.array((1,3))"
   ]
  },
  {
   "cell_type": "code",
   "execution_count": null,
   "metadata": {},
   "outputs": [],
   "source": []
  }
 ],
 "metadata": {
  "kernelspec": {
   "display_name": "Python 3",
   "language": "python",
   "name": "python3"
  },
  "language_info": {
   "codemirror_mode": {
    "name": "ipython",
    "version": 3
   },
   "file_extension": ".py",
   "mimetype": "text/x-python",
   "name": "python",
   "nbconvert_exporter": "python",
   "pygments_lexer": "ipython3",
   "version": "3.7.1"
  }
 },
 "nbformat": 4,
 "nbformat_minor": 2
}
