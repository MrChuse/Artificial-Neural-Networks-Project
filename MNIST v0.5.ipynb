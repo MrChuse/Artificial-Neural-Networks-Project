{
 "cells": [
  {
   "cell_type": "code",
   "execution_count": 1,
   "metadata": {},
   "outputs": [],
   "source": [
    "import numpy as np\n",
    "import matplotlib.pyplot as pyplot\n",
    "import pickle\n",
    "import time\n",
    "\n",
    "import Dense\n",
    "import mse\n",
    "import ReLU\n",
    "import Sigmoid\n",
    "import Softmax\n",
    "import LogLoss"
   ]
  },
  {
   "cell_type": "code",
   "execution_count": 2,
   "metadata": {},
   "outputs": [],
   "source": [
    "with open('data_train.pickle', 'rb') as d:\n",
    "    LOADED_DATA = pickle.load(d)"
   ]
  },
  {
   "cell_type": "code",
   "execution_count": 3,
   "metadata": {},
   "outputs": [],
   "source": [
    "#data preparation\n",
    "\n",
    "class One_Hot_Encoder:\n",
    "    def __init__(self, dims):\n",
    "        self.mat = -np.ones((dims, dims))\n",
    "        for i in range(dims):\n",
    "            self.mat[i][i]=1\n",
    "        \n",
    "    def __call__(self, data):\n",
    "        return self.mat[int(data)]\n",
    "    \n",
    "    \n",
    "def transform_from_pickle(data):\n",
    "    encoder = One_Hot_Encoder(10)\n",
    "    target_after_encoding = [encoder(int(i)) for i in data['target']]\n",
    "    target = np.array(target_after_encoding)\n",
    "    return data['data'], target\n",
    "\n",
    "def train_test_split(data, target, validation_size=0.25, shuffle=True):\n",
    "    assert len(data) == len(target)\n",
    "    if shuffle:\n",
    "        p = np.random.permutation(len(data))\n",
    "        data = data[p]\n",
    "        target = target[p]\n",
    "    partition = int(len(data)*validation_size)\n",
    "    return (data[:partition], data[partition:],\n",
    "            target[:partition], target[partition:])\n",
    "\n",
    "def standartize(data, epsilon=0.0001):\n",
    "    return (data - np.mean(data, axis=0)) /(np.std(data, axis=0) + epsilon)"
   ]
  },
  {
   "cell_type": "code",
   "execution_count": 4,
   "metadata": {},
   "outputs": [
    {
     "data": {
      "text/plain": [
       "8.0"
      ]
     },
     "execution_count": 4,
     "metadata": {},
     "output_type": "execute_result"
    },
    {
     "data": {
      "image/png": "[encoded data removed]",
      "text/plain": [
       "<Figure size 432x288 with 1 Axes>"
      ]
     },
     "metadata": {
      "needs_background": "light"
     },
     "output_type": "display_data"
    }
   ],
   "source": [
    "pyplot.imshow(LOADED_DATA['data'][15].reshape(28,28))\n",
    "LOADED_DATA['target'][15]"
   ]
  },
  {
   "cell_type": "code",
   "execution_count": 15,
   "metadata": {},
   "outputs": [],
   "source": [
    "class net3:\n",
    "    def __init__(self):\n",
    "        self.d1 = Dense.Dense(28*28, 10, 0.0000001)\n",
    "        self.loss_ = mse.mse()\n",
    "    \n",
    "    def loss(self, x, y):\n",
    "        return self.loss_.forward(x, y)\n",
    "    \n",
    "    def forward(self, x, label=None, prnt=False):\n",
    "        x = self.d1.forward(x)\n",
    "        if prnt:\n",
    "            print(x)\n",
    "        if label is None:\n",
    "            return x\n",
    "        return self.loss_.forward(x, label)\n",
    "    \n",
    "    def backward(self):\n",
    "        loss = self.loss_.backward()\n",
    "        loss = self.d1.backward(loss)"
   ]
  },
  {
   "cell_type": "code",
   "execution_count": 16,
   "metadata": {},
   "outputs": [],
   "source": [
    "n = net3()\n",
    "train_losses = []\n",
    "valid_losses = []\n",
    "DATA, TARGET = transform_from_pickle(LOADED_DATA)\n",
    "DATA = standartize(DATA)"
   ]
  },
  {
   "cell_type": "code",
   "execution_count": 17,
   "metadata": {},
   "outputs": [
    {
     "data": {
      "text/plain": [
       "<matplotlib.image.AxesImage at 0x970d630>"
      ]
     },
     "execution_count": 17,
     "metadata": {},
     "output_type": "execute_result"
    },
    {
     "data": {
      "image/png": "[encoded data removed]",
      "text/plain": [
       "<Figure size 432x288 with 2 Axes>"
      ]
     },
     "metadata": {
      "needs_background": "light"
     },
     "output_type": "display_data"
    }
   ],
   "source": [
    "pyplot.subplot(1, 2, 1)\n",
    "pyplot.imshow(DATA[15].reshape(28,28), cmap='gray')\n",
    "pyplot.subplot(1, 2, 2)\n",
    "pyplot.imshow(LOADED_DATA['data'][15].reshape(28,28), cmap='gray')"
   ]
  },
  {
   "cell_type": "code",
   "execution_count": 47,
   "metadata": {
    "scrolled": false
   },
   "outputs": [
    {
     "name": "stdout",
     "output_type": "stream",
     "text": [
      "epoch # 0 time 3.4531972408294678 loss = 6161.831785161602\n",
      "epoch # 1 time 3.0621752738952637 loss = 6188.981458452484\n",
      "epoch # 2 time 2.978170394897461 loss = 6200.644514797852\n",
      "epoch # 3 time 3.0491745471954346 loss = 6186.24479372581\n",
      "epoch # 4 time 3.0371737480163574 loss = 6181.7489541977475\n",
      "epoch # 5 time 3.012171983718872 loss = 6198.070654425216\n",
      "epoch # 6 time 3.0501744747161865 loss = 6180.642543009096\n",
      "epoch # 7 time 3.003171682357788 loss = 6221.60992289922\n",
      "epoch # 8 time 3.0181727409362793 loss = 6191.849256292002\n",
      "epoch # 9 time 2.981170654296875 loss = 6182.272980170648\n",
      "epoch # 10 time 2.990170955657959 loss = 6198.565224622138\n",
      "epoch # 11 time 3.0321731567382812 loss = 6183.479322995033\n",
      "epoch # 12 time 3.0281729698181152 loss = 6172.093328711892\n",
      "epoch # 13 time 3.0171725749969482 loss = 6182.643170827058\n",
      "epoch # 14 time 3.001171350479126 loss = 6197.30968974366\n",
      "epoch # 15 time 3.0151724815368652 loss = 6183.741330544377\n",
      "epoch # 16 time 2.972169876098633 loss = 6199.7159930034895\n",
      "epoch # 17 time 2.998171806335449 loss = 6193.5293162162\n",
      "epoch # 18 time 3.0171725749969482 loss = 6201.119233190462\n",
      "epoch # 19 time 3.079176187515259 loss = 6165.910683862677\n",
      "epoch # 20 time 3.0801761150360107 loss = 6193.454192120955\n",
      "epoch # 21 time 3.0301733016967773 loss = 6175.43785624008\n",
      "epoch # 22 time 3.0441741943359375 loss = 6185.640039961369\n",
      "epoch # 23 time 2.994171142578125 loss = 6192.412180258708\n",
      "epoch # 24 time 3.0401737689971924 loss = 6191.011691072929\n",
      "epoch # 25 time 3.084176540374756 loss = 6170.385770017158\n",
      "epoch # 26 time 3.113178014755249 loss = 6190.643445227671\n",
      "epoch # 27 time 3.1301791667938232 loss = 6164.786809426719\n",
      "epoch # 28 time 2.975170135498047 loss = 6187.711852225344\n",
      "epoch # 29 time 3.0491745471954346 loss = 6200.271528591692\n",
      "epoch # 30 time 2.976170063018799 loss = 6189.095011325687\n",
      "epoch # 31 time 2.983170509338379 loss = 6182.893026872287\n",
      "epoch # 32 time 3.0501744747161865 loss = 6177.776107828993\n",
      "epoch # 33 time 2.994171142578125 loss = 6193.26529566814\n",
      "epoch # 34 time 3.0201728343963623 loss = 6194.853303706708\n",
      "epoch # 35 time 2.995171308517456 loss = 6169.1781584650425\n",
      "epoch # 36 time 3.009171962738037 loss = 6180.830578782428\n",
      "epoch # 37 time 3.0311734676361084 loss = 6176.302276434282\n",
      "epoch # 38 time 2.9711697101593018 loss = 6173.198712925566\n",
      "epoch # 39 time 3.0321731567382812 loss = 6171.074215680462\n",
      "epoch # 40 time 3.0381736755371094 loss = 6180.658011266165\n",
      "epoch # 41 time 3.086176633834839 loss = 6157.274064344023\n",
      "epoch # 42 time 3.0531747341156006 loss = 6168.222103636813\n",
      "epoch # 43 time 3.01117205619812 loss = 6192.752477102301\n",
      "epoch # 44 time 3.021172523498535 loss = 6188.28871585627\n",
      "epoch # 45 time 3.003171682357788 loss = 6192.068730830337\n",
      "epoch # 46 time 3.0021719932556152 loss = 6198.750189729951\n",
      "epoch # 47 time 2.97717022895813 loss = 6183.160112490185\n",
      "epoch # 48 time 2.968169689178467 loss = 6172.817787353741\n",
      "epoch # 49 time 3.0541746616363525 loss = 6197.95470234267\n",
      "epoch # 50 time 3.0101723670959473 loss = 6190.512387805683\n",
      "epoch # 51 time 3.0401740074157715 loss = 6180.674334937561\n",
      "epoch # 52 time 2.9591691493988037 loss = 6168.957885260388\n",
      "epoch # 53 time 3.0301730632781982 loss = 6196.00217734972\n",
      "epoch # 54 time 2.980170488357544 loss = 6200.058585342787\n",
      "epoch # 55 time 2.979170322418213 loss = 6187.613445580292\n",
      "epoch # 56 time 2.998171329498291 loss = 6168.9541338689005\n",
      "epoch # 57 time 2.972169876098633 loss = 6194.748035273894\n",
      "epoch # 58 time 2.988171100616455 loss = 6186.62826261694\n",
      "epoch # 59 time 2.968169689178467 loss = 6201.341298212031\n",
      "epoch # 60 time 2.961169481277466 loss = 6182.569116826532\n",
      "epoch # 61 time 3.004171848297119 loss = 6184.0962267809955\n",
      "epoch # 62 time 3.0271730422973633 loss = 6179.941663124506\n",
      "epoch # 63 time 3.0471744537353516 loss = 6169.820181393013\n",
      "epoch # 64 time 3.0221729278564453 loss = 6171.028821793693\n",
      "epoch # 65 time 3.1621806621551514 loss = 6184.15017608825\n",
      "epoch # 66 time 2.9601693153381348 loss = 6182.678966062957\n",
      "epoch # 67 time 3.024172782897949 loss = 6183.986538990505\n",
      "epoch # 68 time 3.202183246612549 loss = 6186.84486764207\n",
      "epoch # 69 time 3.0251729488372803 loss = 6180.259012547094\n",
      "epoch # 70 time 3.014172315597534 loss = 6209.771766452802\n",
      "epoch # 71 time 2.986171007156372 loss = 6174.862732987847\n",
      "epoch # 72 time 3.015172243118286 loss = 6166.123832208048\n",
      "epoch # 73 time 2.983170747756958 loss = 6174.975378683836\n",
      "epoch # 74 time 2.995171308517456 loss = 6190.910543753904\n",
      "epoch # 75 time 3.01117205619812 loss = 6175.703550831134\n",
      "epoch # 76 time 3.0291731357574463 loss = 6190.263634533038\n",
      "epoch # 77 time 2.999171495437622 loss = 6162.633034030541\n",
      "epoch # 78 time 3.0141725540161133 loss = 6165.727669516071\n",
      "epoch # 79 time 2.97016978263855 loss = 6197.22657416053\n",
      "epoch # 80 time 3.0201728343963623 loss = 6176.233836456212\n",
      "epoch # 81 time 3.0441741943359375 loss = 6177.170231700961\n",
      "epoch # 82 time 3.006171941757202 loss = 6184.4094765531\n",
      "epoch # 83 time 2.990170955657959 loss = 6204.107694302937\n",
      "epoch # 84 time 3.0391738414764404 loss = 6160.508998819645\n",
      "epoch # 85 time 3.0211730003356934 loss = 6165.4809971442455\n",
      "epoch # 86 time 2.97016978263855 loss = 6167.335114536515\n",
      "epoch # 87 time 3.006171941757202 loss = 6178.809815750812\n",
      "epoch # 88 time 2.983170509338379 loss = 6168.763571236975\n",
      "epoch # 89 time 2.961169481277466 loss = 6171.94453088259\n",
      "epoch # 90 time 2.998171806335449 loss = 6178.004971341755\n",
      "epoch # 91 time 2.973170042037964 loss = 6186.471187796598\n",
      "epoch # 92 time 2.986171007156372 loss = 6177.992396839894\n",
      "epoch # 93 time 3.008172035217285 loss = 6172.306274576193\n",
      "epoch # 94 time 2.9731698036193848 loss = 6193.023069612773\n",
      "epoch # 95 time 3.001171350479126 loss = 6169.070018567844\n",
      "epoch # 96 time 3.002171754837036 loss = 6169.4130177786155\n",
      "epoch # 97 time 2.99117112159729 loss = 6195.278298038718\n",
      "epoch # 98 time 2.9561688899993896 loss = 6172.866168834571\n",
      "epoch # 99 time 2.997171401977539 loss = 6187.221665917322\n",
      "302.0452756881714\n"
     ]
    }
   ],
   "source": [
    "t1 = time.time()\n",
    "epochs = 100\n",
    "for epoch in range(epochs):\n",
    "    t_start_epoch = time.time()\n",
    "    train_data, valid_data, train_target, valid_target = train_test_split(DATA, TARGET)\n",
    "    loss = 0\n",
    "    for index, (data, target) in enumerate(zip(train_data, train_target)):\n",
    "        t_start_thousand = time.time()\n",
    "        loss += n.forward(data, target)\n",
    "        n.backward()\n",
    "    train_losses.append(loss)\n",
    "    loss = 0\n",
    "    for data, target in zip(valid_data, valid_target):\n",
    "        loss += n.forward(data, target)\n",
    "    valid_losses.append(loss)\n",
    "    t_end_epoch = time.time()\n",
    "    print('epoch #', epoch, 'time', t_end_epoch - t_start_epoch, 'loss =', loss)\n",
    "t2 = time.time()\n",
    "print(t2 - t1)"
   ]
  },
  {
   "cell_type": "code",
   "execution_count": 49,
   "metadata": {},
   "outputs": [
    {
     "name": "stdout",
     "output_type": "stream",
     "text": [
      "33744 0.8569904761904762\n"
     ]
    },
    {
     "data": {
      "image/png": "[encoded data removed]",
      "text/plain": [
       "<Figure size 432x288 with 1 Axes>"
      ]
     },
     "metadata": {
      "needs_background": "light"
     },
     "output_type": "display_data"
    }
   ],
   "source": [
    "right_answers = 0\n",
    "for data, target in zip(valid_data, valid_target):\n",
    "        answer = n.forward(data)\n",
    "        if np.argmax(answer) == np.argmax(target):\n",
    "            right_answers += 1\n",
    "        else:\n",
    "            wrong_data = data\n",
    "print(right_answers, right_answers/valid_target.shape[0])\n",
    "pyplot.imshow(wrong_data.reshape(28, 28), vmin=-1, vmax=1)\n",
    "pyplot.title(str(np.argmax(n.forward(wrong_data))) + ' ' + str(n.forward(wrong_data)))\n",
    "n.d1.lr /= 1"
   ]
  },
  {
   "cell_type": "code",
   "execution_count": 52,
   "metadata": {
    "scrolled": true
   },
   "outputs": [
    {
     "data": {
      "text/plain": [
       "[<matplotlib.lines.Line2D at 0x9872cc0>]"
      ]
     },
     "execution_count": 52,
     "metadata": {},
     "output_type": "execute_result"
    },
    {
     "data": {
      "image/png": "[encoded data removed]",
      "text/plain": [
       "<Figure size 432x288 with 1 Axes>"
      ]
     },
     "metadata": {
      "needs_background": "light"
     },
     "output_type": "display_data"
    }
   ],
   "source": [
    "start = 0\n",
    "pyplot.plot(train_losses[start:])\n",
    "pyplot.plot(valid_losses[start:])"
   ]
  },
  {
   "cell_type": "code",
   "execution_count": 56,
   "metadata": {},
   "outputs": [
    {
     "name": "stdout",
     "output_type": "stream",
     "text": [
      "[[-0.87696036 -0.75018172  0.87205681 -1.18442081 -0.74888688 -1.2164426\n",
      "  -1.01854004 -0.87720974 -0.81909797 -0.72240831]]\n",
      "(1, 10)\n"
     ]
    },
    {
     "data": {
      "image/png": "[encoded data removed]",
      "text/plain": [
       "<Figure size 432x288 with 4 Axes>"
      ]
     },
     "metadata": {
      "needs_background": "light"
     },
     "output_type": "display_data"
    }
   ],
   "source": [
    "for i in range(4):\n",
    "    number = np.random.randint(len(DATA))\n",
    "    pyplot.subplot(2, 2, i+1)\n",
    "    pyplot.imshow(DATA[number].reshape(28, 28))\n",
    "    pyplot.title(str(np.argmax(n.forward(DATA[number]))) + ' ' + str(number))\n",
    "print(n.forward(DATA[number]))\n",
    "print(n.forward(DATA[number]).shape)\n",
    "#for i in range(10):\n",
    "#    pyplot.subplot(4, 5, i+11)\n",
    "#    pyplot.imshow(np.transpose(n.d1.mt, (1, 0))[i].reshape(28, 28))"
   ]
  },
  {
   "cell_type": "code",
   "execution_count": 51,
   "metadata": {},
   "outputs": [
    {
     "name": "stdout",
     "output_type": "stream",
     "text": [
      "[[-1.10130142 -0.68465706 -0.58523293 -0.57902791 -0.7926166   0.3742489\n",
      "  -1.10195605 -0.69279513 -1.26219594 -0.87126625]]\n",
      "5\n"
     ]
    },
    {
     "data": {
      "image/png": "[encoded data removed]",
      "text/plain": [
       "<Figure size 432x288 with 1 Axes>"
      ]
     },
     "metadata": {
      "needs_background": "light"
     },
     "output_type": "display_data"
    }
   ],
   "source": [
    "pyplot.imshow(DATA[number].reshape(28, 28))\n",
    "answer = n.forward(DATA[number])\n",
    "print(answer)\n",
    "print(np.argmax(answer))\n"
   ]
  },
  {
   "cell_type": "code",
   "execution_count": null,
   "metadata": {},
   "outputs": [],
   "source": [
    "np.array((1,2))*np.array((1,3))"
   ]
  },
  {
   "cell_type": "code",
   "execution_count": null,
   "metadata": {},
   "outputs": [],
   "source": []
  }
 ],
 "metadata": {
  "kernelspec": {
   "display_name": "Python 3",
   "language": "python",
   "name": "python3"
  },
  "language_info": {
   "codemirror_mode": {
    "name": "ipython",
    "version": 3
   },
   "file_extension": ".py",
   "mimetype": "text/x-python",
   "name": "python",
   "nbconvert_exporter": "python",
   "pygments_lexer": "ipython3",
   "version": "3.7.1"
  }
 },
 "nbformat": 4,
 "nbformat_minor": 2
}
