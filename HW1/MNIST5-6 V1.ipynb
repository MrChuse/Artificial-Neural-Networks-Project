{
 "cells": [
  {
   "cell_type": "code",
   "execution_count": 1,
   "metadata": {},
   "outputs": [],
   "source": [
    "import pickle\n",
    "import numpy as np\n",
    "import PIL.Image\n",
    "import itertools\n",
    "from IPython.core.display import Image, display\n",
    "import scipy.ndimage\n",
    "import random\n",
    "import numpy as np\n",
    "import matplotlib.pylab as plt\n",
    "import tqdm\n",
    "import math\n",
    "%matplotlib inline\n",
    "\n",
    "import Dense\n",
    "import Sigmoid\n",
    "import LogLoss\n",
    "import mse"
   ]
  },
  {
   "cell_type": "code",
   "execution_count": 2,
   "metadata": {},
   "outputs": [],
   "source": [
    "# подготовка\n",
    "with open('./hw_1_train.pickle', 'rb') as f:\n",
    "    train = pickle.load(f)\n",
    "with open('./hw_1_test_no_lables.pickle', 'rb') as f:\n",
    "    test_no_lables = pickle.load(f)\n",
    "rng = 30\n",
    "np.random.seed(rng)\n",
    "# готово\n",
    "\n",
    "# нормируем данные\n",
    "mean = np.mean(train['data'], axis = 0)\n",
    "#print(type(mean))\n",
    "std = np.std(train['data'], axis = 0)\n",
    "train['data'] = (train['data'] - mean) / (std + 0.00001) # standart data\n",
    "#train['data'] = (train['data'] - 0) / (256 + 0.00001) #upd: Решил сделать от 0 до 1, тк в другом случае сетка не училась, не знаю, почему\n",
    "train['labels'] -= 5\n",
    "train['labels'][train['labels']==0] = -1\n",
    "# теперь данные нормальные\n",
    "\n",
    "#делим данные на тренировку и тест\n",
    "from sklearn.model_selection import train_test_split\n",
    "train_data, test_data, train_labels, test_labels \\\n",
    "    = train_test_split(train['data'], train['labels'], random_state=rng, test_size = 0.1)\n",
    "\n",
    "#создаем модель здесь, чтобы она не пересоздавалась при обучении\n",
    "tr_eval = []\n",
    "te_eval = []"
   ]
  },
  {
   "cell_type": "code",
   "execution_count": 3,
   "metadata": {},
   "outputs": [
    {
     "data": {
      "image/png": "[encoded data removed]",
      "text/plain": [
       "<Figure size 432x288 with 12 Axes>"
      ]
     },
     "metadata": {
      "needs_background": "light"
     },
     "output_type": "display_data"
    }
   ],
   "source": [
    "n = 4\n",
    "for i in range(n*(n-1)):\n",
    "    plt.subplot(n-1, n, i+1)\n",
    "    q=np.random.randint(0, train_data.shape[0])\n",
    "    plt.imshow(train_data[i].reshape(28,28))\n",
    "    plt.title(\"%.1f, %d\" % (0, i))"
   ]
  },
  {
   "cell_type": "code",
   "execution_count": 4,
   "metadata": {},
   "outputs": [],
   "source": [
    "class net2:\n",
    "    def __init__(self):\n",
    "        self.d1 = Dense.Dense(28*28, 1, 0.01)\n",
    "        self.a1 = Sigmoid.Sigmoid()\n",
    "        self.loss_ = LogLoss.LogLoss()\n",
    "    \n",
    "    def loss(self, x, y):\n",
    "        return self.loss_.forward(x, y)\n",
    "    \n",
    "    def forward(self, x, label=None, prnt=False):\n",
    "        x = self.d1.forward(x)\n",
    "        if prnt:\n",
    "            print(x)\n",
    "        x = self.a1.forward(x)\n",
    "        if prnt:\n",
    "            print(x)\n",
    "        if label is None:\n",
    "            return x\n",
    "        return self.loss_.forward(x, label)\n",
    "    \n",
    "    def backward(self):\n",
    "        loss = self.loss_.backward()\n",
    "        loss = self.a1.backward(loss)\n",
    "        loss = self.d1.backward(loss)\n",
    "        \n",
    "        \n",
    "class net3:\n",
    "    def __init__(self):\n",
    "        self.d1 = Dense.Dense(28*28, 1, 0.00001)\n",
    "        self.loss_ = mse.mse()\n",
    "    \n",
    "    def loss(self, x, y):\n",
    "        return self.loss_.forward(x, y)\n",
    "    \n",
    "    def forward(self, x, label=None, prnt=False):\n",
    "        x = self.d1.forward(x)\n",
    "        if prnt:\n",
    "            print(x)\n",
    "        if label is None:\n",
    "            return x\n",
    "        return self.loss_.forward(x, label)\n",
    "    \n",
    "    def backward(self):\n",
    "        loss = self.loss_.backward()\n",
    "        loss = self.d1.backward(loss)\n",
    "my_first_model = net3()"
   ]
  },
  {
   "cell_type": "code",
   "execution_count": 5,
   "metadata": {},
   "outputs": [],
   "source": [
    "chosen_index = np.random.randint(0, train_data.shape[0])\n",
    "tr_eval.append(my_first_model.forward(train_data[0], train_labels[0]))\n",
    "my_first_model.backward()"
   ]
  },
  {
   "cell_type": "code",
   "execution_count": 6,
   "metadata": {
    "scrolled": true
   },
   "outputs": [
    {
     "name": "stdout",
     "output_type": "stream",
     "text": [
      "time is  :      0.69 correct: 0.974\n",
      "time is  :      1.37 correct: 0.9755555555555555\n",
      "time is  :      2.06 correct: 0.9755555555555555\n",
      "time is  :      2.73 correct: 0.9755555555555555\n",
      "time is  :      3.42 correct: 0.9752222222222222\n",
      "time is  :      3.42\n"
     ]
    }
   ],
   "source": [
    "# Реализуйте здесь обучение модели\n",
    "import time\n",
    "#print(my_first_net.shape, 3)\n",
    "start = time.monotonic()\n",
    "test_loss = 1\n",
    "min_loss = 1\n",
    "end = start\n",
    "epochs = 0\n",
    "while(test_loss > 0 and end - start < 300 and epochs < 5):\n",
    "    #train\n",
    "    for i in range(train_data.shape[0]):\n",
    "        chosen_index = np.random.randint(0, train_data.shape[0])\n",
    "        my_first_model.forward(train_data[chosen_index], train_labels[chosen_index])\n",
    "        my_first_model.backward()\n",
    "        \n",
    "    correct = 0\n",
    "    for i in range(train_data.shape[0]):\n",
    "        ans = my_first_model.forward(train_data[i])\n",
    "        if (ans < 0 and train_labels[i] < 0) or (ans > 0 and train_labels[i] > 0):\n",
    "            correct += 1\n",
    "    \n",
    "    \n",
    "    end = time.monotonic()\n",
    "    print('time is  : {:>9.2f}'.format(end - start), 'correct:', correct/train_data.shape[0])\n",
    "    epochs += 1\n",
    "    \n",
    "#plt.imshow(my_first_model.d1.mt.reshape(28,28))\n",
    "end = time.monotonic()\n",
    "print('time is  : {:>9.2f}'.format(end - start))\n",
    "#print(right_answers, test_loss)"
   ]
  },
  {
   "cell_type": "code",
   "execution_count": 7,
   "metadata": {},
   "outputs": [
    {
     "name": "stdout",
     "output_type": "stream",
     "text": [
      "[1.0348526353927063]\n"
     ]
    },
    {
     "data": {
      "text/plain": [
       "<matplotlib.legend.Legend at 0x13351b00>"
      ]
     },
     "execution_count": 7,
     "metadata": {},
     "output_type": "execute_result"
    },
    {
     "data": {
      "image/png": "[encoded data removed]",
      "text/plain": [
       "<Figure size 432x288 with 1 Axes>"
      ]
     },
     "metadata": {
      "needs_background": "light"
     },
     "output_type": "display_data"
    }
   ],
   "source": [
    "plt.title('Loss')\n",
    "print((tr_eval))\n",
    "plt.plot(tr_eval, label='train')\n",
    "#plt.plot([e[0] for e in te_eval], label='test')\n",
    "plt.legend()"
   ]
  },
  {
   "cell_type": "code",
   "execution_count": 8,
   "metadata": {},
   "outputs": [
    {
     "ename": "IndexError",
     "evalue": "invalid index to scalar variable.",
     "output_type": "error",
     "traceback": [
      "\u001b[1;31m---------------------------------------------------------------------------\u001b[0m",
      "\u001b[1;31mIndexError\u001b[0m                                Traceback (most recent call last)",
      "\u001b[1;32m<ipython-input-8-db9391be3915>\u001b[0m in \u001b[0;36m<module>\u001b[1;34m\u001b[0m\n\u001b[0;32m      1\u001b[0m \u001b[0mplt\u001b[0m\u001b[1;33m.\u001b[0m\u001b[0mtitle\u001b[0m\u001b[1;33m(\u001b[0m\u001b[1;34m'Acc'\u001b[0m\u001b[1;33m)\u001b[0m\u001b[1;33m\u001b[0m\u001b[1;33m\u001b[0m\u001b[0m\n\u001b[1;32m----> 2\u001b[1;33m \u001b[0mplt\u001b[0m\u001b[1;33m.\u001b[0m\u001b[0mplot\u001b[0m\u001b[1;33m(\u001b[0m\u001b[1;33m[\u001b[0m\u001b[0me\u001b[0m\u001b[1;33m[\u001b[0m\u001b[1;36m1\u001b[0m\u001b[1;33m]\u001b[0m \u001b[1;32mfor\u001b[0m \u001b[0me\u001b[0m \u001b[1;32min\u001b[0m \u001b[0mtr_eval\u001b[0m\u001b[1;33m]\u001b[0m\u001b[1;33m,\u001b[0m \u001b[0mlabel\u001b[0m\u001b[1;33m=\u001b[0m\u001b[1;34m'train'\u001b[0m\u001b[1;33m)\u001b[0m\u001b[1;33m\u001b[0m\u001b[1;33m\u001b[0m\u001b[0m\n\u001b[0m\u001b[0;32m      3\u001b[0m \u001b[0mplt\u001b[0m\u001b[1;33m.\u001b[0m\u001b[0mplot\u001b[0m\u001b[1;33m(\u001b[0m\u001b[1;33m[\u001b[0m\u001b[0me\u001b[0m\u001b[1;33m[\u001b[0m\u001b[1;36m1\u001b[0m\u001b[1;33m]\u001b[0m \u001b[1;32mfor\u001b[0m \u001b[0me\u001b[0m \u001b[1;32min\u001b[0m \u001b[0mte_eval\u001b[0m\u001b[1;33m]\u001b[0m\u001b[1;33m,\u001b[0m \u001b[0mlabel\u001b[0m\u001b[1;33m=\u001b[0m\u001b[1;34m'test'\u001b[0m\u001b[1;33m)\u001b[0m\u001b[1;33m\u001b[0m\u001b[1;33m\u001b[0m\u001b[0m\n\u001b[0;32m      4\u001b[0m \u001b[0mplt\u001b[0m\u001b[1;33m.\u001b[0m\u001b[0mlegend\u001b[0m\u001b[1;33m(\u001b[0m\u001b[1;33m)\u001b[0m\u001b[1;33m\u001b[0m\u001b[1;33m\u001b[0m\u001b[0m\n",
      "\u001b[1;32m<ipython-input-8-db9391be3915>\u001b[0m in \u001b[0;36m<listcomp>\u001b[1;34m(.0)\u001b[0m\n\u001b[0;32m      1\u001b[0m \u001b[0mplt\u001b[0m\u001b[1;33m.\u001b[0m\u001b[0mtitle\u001b[0m\u001b[1;33m(\u001b[0m\u001b[1;34m'Acc'\u001b[0m\u001b[1;33m)\u001b[0m\u001b[1;33m\u001b[0m\u001b[1;33m\u001b[0m\u001b[0m\n\u001b[1;32m----> 2\u001b[1;33m \u001b[0mplt\u001b[0m\u001b[1;33m.\u001b[0m\u001b[0mplot\u001b[0m\u001b[1;33m(\u001b[0m\u001b[1;33m[\u001b[0m\u001b[0me\u001b[0m\u001b[1;33m[\u001b[0m\u001b[1;36m1\u001b[0m\u001b[1;33m]\u001b[0m \u001b[1;32mfor\u001b[0m \u001b[0me\u001b[0m \u001b[1;32min\u001b[0m \u001b[0mtr_eval\u001b[0m\u001b[1;33m]\u001b[0m\u001b[1;33m,\u001b[0m \u001b[0mlabel\u001b[0m\u001b[1;33m=\u001b[0m\u001b[1;34m'train'\u001b[0m\u001b[1;33m)\u001b[0m\u001b[1;33m\u001b[0m\u001b[1;33m\u001b[0m\u001b[0m\n\u001b[0m\u001b[0;32m      3\u001b[0m \u001b[0mplt\u001b[0m\u001b[1;33m.\u001b[0m\u001b[0mplot\u001b[0m\u001b[1;33m(\u001b[0m\u001b[1;33m[\u001b[0m\u001b[0me\u001b[0m\u001b[1;33m[\u001b[0m\u001b[1;36m1\u001b[0m\u001b[1;33m]\u001b[0m \u001b[1;32mfor\u001b[0m \u001b[0me\u001b[0m \u001b[1;32min\u001b[0m \u001b[0mte_eval\u001b[0m\u001b[1;33m]\u001b[0m\u001b[1;33m,\u001b[0m \u001b[0mlabel\u001b[0m\u001b[1;33m=\u001b[0m\u001b[1;34m'test'\u001b[0m\u001b[1;33m)\u001b[0m\u001b[1;33m\u001b[0m\u001b[1;33m\u001b[0m\u001b[0m\n\u001b[0;32m      4\u001b[0m \u001b[0mplt\u001b[0m\u001b[1;33m.\u001b[0m\u001b[0mlegend\u001b[0m\u001b[1;33m(\u001b[0m\u001b[1;33m)\u001b[0m\u001b[1;33m\u001b[0m\u001b[1;33m\u001b[0m\u001b[0m\n",
      "\u001b[1;31mIndexError\u001b[0m: invalid index to scalar variable."
     ]
    },
    {
     "data": {
      "image/png": "[encoded data removed]",
      "text/plain": [
       "<Figure size 432x288 with 1 Axes>"
      ]
     },
     "metadata": {
      "needs_background": "light"
     },
     "output_type": "display_data"
    }
   ],
   "source": [
    "plt.title('Acc')\n",
    "plt.plot([e[1] for e in tr_eval], label='train')\n",
    "plt.plot([e[1] for e in te_eval], label='test')\n",
    "plt.legend()"
   ]
  },
  {
   "cell_type": "code",
   "execution_count": null,
   "metadata": {},
   "outputs": [],
   "source": [
    "X = test_no_lables['data']\n",
    "mean = np.mean(X, axis = 0)\n",
    "std = np.std(X, axis = 0)\n",
    "X_new = (X - mean) / (std + 0.00001)\n",
    "\n",
    "# compute Y_pred\n",
    "Y_pred = []\n",
    "for i in range(X_new.shape[0]):\n",
    "    net_response = my_first_model.forward(X_new[i])\n",
    "    Y_pred.append(net_response)"
   ]
  },
  {
   "cell_type": "code",
   "execution_count": 12,
   "metadata": {},
   "outputs": [
    {
     "name": "stdout",
     "output_type": "stream",
     "text": [
      "[[-0.63239066]]\n",
      "[[0.97006762]]\n",
      "[[0.99969217]]\n",
      "[[-0.6623572]]\n"
     ]
    },
    {
     "data": {
      "image/png": "[encoded data removed]",
      "text/plain": [
       "<Figure size 432x288 with 4 Axes>"
      ]
     },
     "metadata": {
      "needs_background": "light"
     },
     "output_type": "display_data"
    }
   ],
   "source": [
    "n = 2\n",
    "for i in range(n*n):\n",
    "    plt.subplot(n, n, i+1)\n",
    "    q=np.random.randint(0, train_data.shape[0])\n",
    "    plt.imshow(train_data[q].reshape(28,28))\n",
    "    plt.title(\"%.1f, %d\" % (my_first_model.forward(train_data[q], prnt=True), q))\n",
    "    \n"
   ]
  },
  {
   "cell_type": "code",
   "execution_count": null,
   "metadata": {},
   "outputs": [],
   "source": [
    "plt.imshow(train_data[3349].reshape(28,28))"
   ]
  },
  {
   "cell_type": "code",
   "execution_count": 9,
   "metadata": {},
   "outputs": [
    {
     "name": "stdout",
     "output_type": "stream",
     "text": [
      "[[ 1.34374587e-04 -2.00158712e-03 -1.94324293e-03 -2.50152363e-03\n",
      "  -1.82510919e-03 -6.88185476e-06  8.49242582e-04 -5.10260911e-03\n",
      "  -3.94688822e-03 -3.58825002e-03 -2.59345149e-03  1.04863007e-03\n",
      "  -1.70286304e-03 -2.12352351e-03 -4.29534886e-03 -2.68343614e-03\n",
      "   1.97721399e-03  2.01229095e-03 -1.55050512e-03 -6.65051591e-04\n",
      "   5.91665067e-03  8.44679421e-04 -1.81868166e-03 -7.80933070e-04\n",
      "  -3.29798392e-03  2.04220292e-03 -6.23772930e-03 -2.86383601e-03]\n",
      " [ 5.27596544e-03  5.99633205e-04 -2.82347972e-03 -3.04784289e-03\n",
      "   5.15490233e-04  3.12998581e-03  1.53274934e-03 -2.38284008e-03\n",
      "   3.05751632e-03 -7.53988818e-04 -1.15181094e-03  8.93229147e-04\n",
      "   3.55057885e-03  7.71269075e-04  2.49533966e-03  3.27125018e-03\n",
      "   4.59243867e-03  1.99772056e-03  2.20963892e-03  1.93135484e-03\n",
      "   2.66643490e-03 -4.81484405e-05 -2.84905924e-03  4.58521558e-03\n",
      "  -2.13942352e-03 -1.42266281e-03 -6.99048249e-04 -8.82862184e-04]\n",
      " [-6.84221624e-04  2.57981832e-03 -1.87465014e-03  3.54038955e-03\n",
      "  -2.03794599e-03 -1.22908308e-03  2.11211093e-04  2.97015933e-03\n",
      "   6.30861510e-04 -1.09953239e-03  2.45102585e-03  3.81032143e-03\n",
      "   1.19242679e-02  5.10022445e-03  1.22518789e-02  9.03785149e-03\n",
      "   3.02743450e-03  9.44113629e-04  1.95550985e-03  5.58028588e-04\n",
      "   1.00734634e-03  4.71539712e-04  1.95664544e-03  1.38678970e-03\n",
      "   1.58803827e-03 -1.73483686e-03 -1.90404933e-03  1.49997057e-03]\n",
      " [-3.33647066e-03  1.44654504e-03  5.23772605e-04  8.57111035e-04\n",
      "  -3.85269763e-03 -2.37622241e-03 -1.05425851e-03 -1.66907654e-04\n",
      "   4.27148706e-03  6.53705095e-03  8.88299527e-03  1.22646415e-02\n",
      "   1.32448801e-02  2.11128630e-02  2.23124200e-02  2.45781200e-02\n",
      "   2.40430355e-02  3.01667260e-02  1.97236061e-02  2.29497224e-02\n",
      "   1.74446421e-02  1.66602305e-02  1.48788296e-02  5.88568121e-03\n",
      "   5.91259345e-03 -6.98242673e-04  6.70540421e-03  2.46510555e-03]\n",
      " [-1.50991591e-03 -3.80305865e-03 -7.38547648e-04  5.45828631e-03\n",
      "   2.83171998e-03  2.05276002e-04  2.64643972e-03  8.67021012e-04\n",
      "   6.62854375e-03  4.03524144e-03 -4.08683292e-05  3.51997536e-03\n",
      "   8.47672938e-04  2.82062476e-03  7.22838658e-03  7.42264611e-03\n",
      "   4.73186760e-03  1.46267199e-02  8.08910765e-03  7.99829100e-03\n",
      "   1.06134017e-02  2.44692101e-03 -1.60615468e-03 -4.92877501e-03\n",
      "  -5.15651704e-03 -3.11684524e-03 -3.12266084e-03  8.83745010e-03]\n",
      " [-2.76186916e-03 -2.81194244e-03  8.88679743e-04  8.08934802e-04\n",
      "   3.44670646e-03 -4.01854520e-03 -2.94035101e-03  6.69539023e-04\n",
      "  -1.46467758e-03 -8.05525129e-03 -7.88183300e-03 -1.16509311e-02\n",
      "  -9.72619111e-03 -4.95941407e-03 -1.48124501e-02 -1.10089358e-02\n",
      "  -8.25598840e-03 -8.02200599e-03 -2.38607431e-04 -3.18720953e-03\n",
      "  -6.23307878e-03 -3.87160575e-03 -9.07992950e-03 -1.11112682e-03\n",
      "  -5.69488905e-03 -1.78711104e-03 -7.49422924e-03  3.46807710e-04]\n",
      " [ 1.11895763e-03 -2.10739980e-03 -7.24722290e-04  1.45075855e-03\n",
      "   4.94214148e-04 -8.23283303e-04 -1.63346975e-03  4.58272276e-03\n",
      "  -6.24251313e-03 -5.24740784e-03 -1.56815942e-02 -1.06388076e-02\n",
      "  -8.94607696e-03 -7.90253910e-03 -1.17257711e-02 -6.70843065e-03\n",
      "  -1.17294819e-02 -9.71802826e-03 -8.38059539e-03 -9.59465280e-03\n",
      "  -8.99064675e-03 -9.34325380e-03 -9.83024799e-03 -1.02188672e-02\n",
      "  -7.26649509e-03 -1.11357759e-02 -5.61889945e-03 -5.18097283e-03]\n",
      " [ 3.53304143e-03 -6.30415993e-04  4.98437346e-05  4.57965277e-03\n",
      "  -8.61058078e-04 -2.00433790e-03 -8.75220807e-04  6.07122504e-03\n",
      "  -8.57749683e-03 -8.44853360e-03 -1.05049938e-02 -1.64384520e-02\n",
      "  -4.65960330e-03 -6.87663626e-03 -1.90169300e-03  6.62431783e-04\n",
      "  -5.00576222e-03 -1.13298937e-02 -1.26578053e-02 -9.40031191e-03\n",
      "  -1.52875296e-02 -8.51861469e-03 -7.29247519e-03 -6.70816819e-03\n",
      "  -1.29052508e-02 -1.10927669e-02 -8.95678135e-03  2.57478228e-03]\n",
      " [ 3.19129582e-03 -2.86580551e-03  3.85625381e-03 -4.67167119e-03\n",
      "   3.21117095e-03  2.10490956e-03 -4.39314021e-03 -4.86870805e-04\n",
      "  -4.86186356e-03 -2.43961688e-03 -5.76304879e-03 -4.19186714e-03\n",
      "  -2.59995425e-03  1.56065970e-03  4.54893644e-03  2.69030776e-03\n",
      "  -5.05610191e-03 -8.89313668e-03 -7.53464939e-03 -8.76005515e-03\n",
      "  -6.22992332e-03 -2.39091908e-03 -9.75692022e-03 -1.52309391e-02\n",
      "  -2.17440475e-02 -1.11392358e-02 -2.58477825e-03 -4.61069036e-03]\n",
      " [ 2.32182262e-03  2.57407922e-04  6.24159143e-04 -1.95455161e-03\n",
      "   4.22190820e-03 -2.48653005e-03 -4.79034692e-04  8.91643575e-04\n",
      "  -5.08096049e-03 -4.15538360e-03 -6.32357972e-03 -9.06901528e-03\n",
      "  -3.33821987e-03 -1.64102609e-03  6.91986170e-03  9.10070448e-05\n",
      "  -8.58469913e-03 -1.12407974e-02 -1.10923288e-02 -2.77440524e-03\n",
      "   2.84435704e-04 -7.87542813e-03 -8.07507147e-03 -1.67116767e-02\n",
      "  -1.87587059e-02 -1.76290519e-02 -5.18650182e-03 -4.01171235e-03]\n",
      " [-1.76225741e-03  2.48174524e-03  5.84398527e-04  2.93664340e-03\n",
      "  -3.66597301e-03 -1.07911400e-03  3.46942510e-04 -2.51553738e-03\n",
      "  -6.74501214e-05 -5.05047726e-03 -1.13064090e-02 -9.84635957e-03\n",
      "  -7.43772620e-03 -1.54433176e-03 -3.51725766e-03 -9.15397988e-03\n",
      "  -1.02937647e-02 -7.30787041e-03 -7.26788137e-03 -5.18026267e-03\n",
      "  -1.17834585e-03 -4.32966429e-03 -5.42347189e-03 -1.15788717e-02\n",
      "  -1.48390807e-02 -1.78388773e-02 -8.90917061e-03 -3.44457200e-03]\n",
      " [ 3.25334952e-03 -1.99686926e-03 -2.42263065e-03 -4.07288865e-03\n",
      "   2.73088125e-03  2.27431681e-03 -9.16474765e-03 -7.76676992e-04\n",
      "  -5.00517763e-04 -6.51054403e-03 -1.25780827e-02 -1.77390482e-02\n",
      "  -8.25699257e-03 -4.08871162e-03 -8.44161675e-03 -1.04225226e-02\n",
      "  -5.08129003e-03  2.42370167e-03  4.28086161e-03  6.70736885e-03\n",
      "   4.49424969e-03  1.19493042e-02  4.14002820e-03  5.74711240e-03\n",
      "   2.44619712e-03 -7.79563385e-03 -8.90633212e-03  3.65117880e-03]\n",
      " [ 4.47777805e-03  3.85140313e-03 -1.52484665e-03  5.99972132e-03\n",
      "  -5.67101487e-04 -1.08745443e-03 -4.09167240e-05  1.92595654e-03\n",
      "  -3.97612290e-03 -5.22194979e-04 -1.37943006e-02 -1.08495900e-02\n",
      "  -3.03376329e-03 -7.14466887e-03 -7.35286614e-03 -3.80215007e-03\n",
      "   2.17980380e-03  4.86940726e-03  1.81671477e-03  2.64129299e-03\n",
      "   8.48846654e-04  7.87431341e-03  9.26425985e-03  1.06159068e-02\n",
      "   7.47613403e-03  5.50434621e-04 -5.41349892e-03 -9.05198442e-04]\n",
      " [-4.35248633e-04 -1.58518468e-03  9.98734682e-04 -5.56018819e-03\n",
      "   1.77526696e-03 -5.02815376e-03  4.37145207e-04 -8.06687292e-04\n",
      "  -1.16036309e-03 -1.91188439e-03 -4.18398132e-03 -1.31133977e-03\n",
      "  -2.45189763e-03 -9.81484158e-03 -3.78309031e-03  1.19260083e-04\n",
      "  -1.90262661e-03  3.65211438e-03  2.69498816e-03  2.23290203e-03\n",
      "   7.37971331e-03  9.21682040e-03  3.67995009e-03  8.06130838e-03\n",
      "   8.66227261e-03  4.08303461e-03 -2.00776926e-04  2.53312497e-03]\n",
      " [-9.62914172e-04  2.58592828e-03  6.04471921e-04 -1.03614055e-02\n",
      "  -7.52903429e-03  4.17408667e-03  7.62744521e-03  1.10588612e-03\n",
      "  -5.72789421e-03  2.33871459e-03 -1.16658645e-03  6.20368667e-03\n",
      "  -1.90905301e-03 -7.32358687e-03 -4.95625735e-03 -2.30045590e-03\n",
      "   1.94227042e-03 -1.09033914e-03 -3.64104656e-03  2.66280055e-03\n",
      "   7.31197877e-03  1.00942167e-02  8.14781923e-03  3.52193868e-03\n",
      "   2.42281775e-03  2.29220645e-03  4.26487757e-03 -2.60099084e-03]\n",
      " [-3.78467724e-03 -2.80705827e-03  2.19509122e-03 -3.80650589e-03\n",
      "  -6.61207771e-03  8.73276862e-03  6.22803280e-03  4.87794585e-03\n",
      "   6.05283845e-03  9.40564116e-03  1.70385945e-02  1.45811104e-02\n",
      "   3.51391110e-04 -7.30733178e-03  3.13306975e-03  8.74697811e-03\n",
      "   3.41712131e-03  2.46284865e-03 -4.86626472e-04  7.57324703e-03\n",
      "   1.36385565e-02  5.89660869e-03  2.59650463e-03  5.72385016e-03\n",
      "  -3.47549998e-03 -1.26401446e-03  1.95682224e-03 -2.56398525e-03]\n",
      " [-1.33238808e-03 -2.36468455e-03 -3.27372982e-03  1.58451233e-03\n",
      "  -4.12012053e-03  8.75210229e-03  1.29989687e-02  1.08279942e-02\n",
      "   1.34869590e-02  1.91934793e-02  3.25916945e-02  3.25705887e-02\n",
      "   1.05111170e-02 -3.86803697e-03  9.99884446e-03  9.22282833e-03\n",
      "   2.90625273e-03 -2.42240748e-03  5.93588770e-03  7.70029314e-03\n",
      "   8.49379341e-03  7.53420033e-03  1.18666363e-03 -5.54342529e-03\n",
      "  -2.51926799e-04 -1.64881546e-04 -2.83968862e-03 -1.19230609e-03]\n",
      " [ 1.14506534e-03  1.31278522e-03  3.76197500e-04 -7.64869255e-03\n",
      "  -7.02457271e-03 -6.99860785e-03 -4.05745346e-03  9.05330002e-03\n",
      "   1.52800461e-02  2.36856121e-02  3.88916524e-02  3.78365120e-02\n",
      "   1.37084124e-02  7.82891912e-03  7.69004247e-03  2.53213583e-03\n",
      "  -2.29379830e-03  2.47722458e-03  1.29952360e-02  8.07033691e-03\n",
      "   2.42302125e-03 -3.29022193e-04  6.87786410e-04  2.22715009e-03\n",
      "  -4.43997213e-03  1.90405529e-03  1.14830571e-03 -3.06113495e-03]\n",
      " [ 8.36752561e-04  1.22749518e-04 -1.00832423e-03 -1.15098517e-03\n",
      "  -4.24379411e-03 -6.24253675e-03 -1.34361223e-02 -4.26415276e-03\n",
      "   5.60429729e-03  1.59217278e-02  3.51887172e-02  2.99408065e-02\n",
      "   1.75441264e-02  1.24692381e-02  1.35033096e-03 -2.29722376e-03\n",
      "  -4.15105061e-03  2.79839098e-03  9.80342460e-03  9.75254301e-03\n",
      "  -3.78177781e-03 -2.00728477e-03 -1.17404645e-03 -8.10637273e-04\n",
      "  -2.02532321e-03  3.25216823e-03  1.50541600e-03 -2.80890405e-03]\n",
      " [ 9.75019098e-04  1.70871938e-03  5.90998131e-04 -6.88971501e-03\n",
      "   1.82359251e-03 -9.05512768e-03 -1.47822843e-02 -5.18204217e-03\n",
      "  -1.14065447e-03  1.33107851e-03  1.61469659e-02  2.43148553e-02\n",
      "   1.93696211e-02 -8.19052052e-04 -1.16543085e-03 -5.73726436e-03\n",
      "   2.24695507e-03  2.79511600e-03  3.80438722e-03 -1.27135509e-03\n",
      "  -8.61299233e-03 -4.50275474e-03  3.08027832e-03 -5.03581839e-03\n",
      "  -5.83035953e-03 -1.57273477e-03  1.33422535e-03 -3.06828499e-05]\n",
      " [ 2.45995957e-03  2.35524874e-03 -1.14760429e-04 -3.52547904e-03\n",
      "  -3.57413678e-03 -4.60575409e-04 -5.08436351e-03 -8.30473201e-03\n",
      "  -1.59125329e-03  1.14174809e-04  4.59286208e-03  1.24360370e-02\n",
      "   2.16491657e-02  1.68796931e-02  2.24608030e-02  1.00785667e-02\n",
      "   9.33393965e-03  2.57048049e-03  3.10801716e-03  3.39938582e-03\n",
      "   6.63522423e-04 -3.15721789e-03 -3.65988748e-04 -3.76568450e-03\n",
      "  -5.00108770e-04  1.99242187e-03  2.35170415e-03 -1.55876604e-03]\n",
      " [ 8.04705863e-03 -6.61833131e-04 -1.63379976e-03 -1.54986638e-03\n",
      "  -1.19944806e-03 -2.74380138e-03 -3.41865591e-03 -3.28623055e-03\n",
      "   1.05502825e-03 -6.52002006e-03  5.26801084e-03  5.72845531e-03\n",
      "   1.33295214e-02  1.85326461e-02  1.66126667e-02  1.44454588e-02\n",
      "   8.02949330e-03  8.45889652e-03  4.43112062e-03 -2.06861596e-04\n",
      "  -3.57986240e-03 -3.80293342e-03 -2.74412700e-03 -3.28312027e-03\n",
      "  -3.37375535e-03 -2.80586510e-03  3.48108016e-03  3.60301166e-03]\n",
      " [-1.68033675e-04 -2.04738960e-03 -2.45262533e-03 -1.07013773e-03\n",
      "  -2.71625942e-03 -6.04326044e-03 -1.59140210e-03  3.46370711e-03\n",
      "  -1.48170647e-03 -8.29408175e-03 -7.33916517e-03 -8.14050486e-03\n",
      "  -4.34456780e-03  5.23873284e-03  3.36677728e-03 -1.86623950e-03\n",
      "  -1.48105673e-03 -1.71245993e-03 -3.56222671e-03 -6.01881715e-03\n",
      "  -2.43177161e-03  5.10984417e-03  1.99322135e-03  5.51402987e-04\n",
      "  -4.70947451e-03 -3.24661766e-03  3.72068791e-04  2.32361346e-03]\n",
      " [-1.28237683e-04  9.39991525e-04 -2.58181837e-03  5.84988046e-06\n",
      "  -3.43823431e-03 -9.45438877e-04  1.14760285e-03 -7.97851300e-05\n",
      "  -1.25753538e-04 -5.82696269e-03 -1.18823037e-02 -1.37234011e-02\n",
      "  -1.95127736e-02 -1.30519555e-02 -1.61873320e-02 -1.19362681e-02\n",
      "  -1.13803642e-02  3.93283002e-04  5.13052105e-03  2.94847616e-03\n",
      "   1.37901463e-03 -1.64413345e-03  5.97804306e-03 -2.23514256e-03\n",
      "  -6.23091143e-03 -2.78386172e-03  1.48807956e-03 -5.02472208e-04]\n",
      " [-7.04221307e-04 -1.77644336e-03 -5.23755480e-03 -2.49251057e-03\n",
      "  -6.06281020e-04 -2.67214810e-03  1.21977889e-03 -1.38928207e-03\n",
      "   1.47114358e-03  4.52444764e-03  2.84147896e-03  4.50449992e-03\n",
      "   4.26241017e-03  3.68562267e-03 -2.98916263e-03  2.92826729e-03\n",
      "   3.70135476e-04  2.26898718e-03 -2.68444896e-03 -2.71092618e-03\n",
      "  -2.38071149e-03 -4.40296220e-03 -2.54586802e-03 -2.28538921e-03\n",
      "  -1.31554053e-03 -1.16767095e-03  6.94839246e-04 -1.12423718e-04]\n",
      " [ 2.00849532e-03 -3.20645449e-03  1.51355465e-03  1.06736568e-03\n",
      "   2.79061554e-03  1.40128625e-03 -2.82558693e-03 -1.58984116e-03\n",
      "   1.15106121e-03 -2.95345873e-03 -2.55370743e-04 -1.65923412e-03\n",
      "  -3.85557343e-03 -7.64353566e-05 -4.13486198e-03 -1.79789450e-03\n",
      "  -2.51026064e-03 -8.87320304e-03 -6.87293892e-03  1.08306086e-04\n",
      "  -4.53642118e-03 -3.13423557e-03  2.66403363e-04  4.37531120e-05\n",
      "   7.99417713e-04 -2.21719186e-03 -2.40070167e-03  4.33772690e-04]\n",
      " [ 3.01554730e-03  5.57705048e-03  2.67900256e-03 -5.83416413e-03\n",
      "  -5.66341979e-03  4.47382428e-04  1.46791737e-03  3.07078219e-03\n",
      "  -2.34582120e-03 -3.86754626e-03  3.87640895e-03 -2.90935455e-03\n",
      "  -5.99789260e-03 -1.65229723e-03 -4.38546128e-03  8.82079184e-04\n",
      "  -4.54170558e-03 -2.53559596e-03 -4.29424623e-03 -2.85342794e-03\n",
      "  -1.03231689e-03  1.68371902e-03  2.83097051e-03 -4.17590534e-04\n",
      "   5.36061621e-03 -2.07278534e-03 -2.64121508e-03  6.78875231e-04]\n",
      " [ 7.14104925e-05 -1.95752574e-03  2.05361442e-03 -4.92878959e-04\n",
      "  -5.72607629e-05 -2.65019408e-03  2.04390268e-03  2.56130948e-03\n",
      "  -2.94244797e-04  5.71777642e-04  1.48930963e-03 -1.30439554e-03\n",
      "  -6.35994122e-04  4.49011715e-03  1.50080343e-03 -9.37782630e-04\n",
      "  -8.99679813e-04 -8.95998010e-04  3.01645513e-03  5.20373467e-03\n",
      "  -3.45980648e-03 -7.61071895e-04  2.73444435e-03  1.10880928e-03\n"
     ]
    },
    {
     "name": "stdout",
     "output_type": "stream",
     "text": [
      "  -4.17829574e-03 -2.66634143e-03  2.07832091e-03 -5.45559796e-04]]\n"
     ]
    },
    {
     "data": {
      "image/png": "[encoded data removed]",
      "text/plain": [
       "<Figure size 432x288 with 1 Axes>"
      ]
     },
     "metadata": {
      "needs_background": "light"
     },
     "output_type": "display_data"
    }
   ],
   "source": [
    "plt.imshow(my_first_model.d1.mt.reshape(28,28))\n",
    "print(my_first_model.d1.mt.reshape(28,-1))"
   ]
  },
  {
   "cell_type": "code",
   "execution_count": 15,
   "metadata": {},
   "outputs": [
    {
     "name": "stdout",
     "output_type": "stream",
     "text": [
      "[[-4518.58633936]] [[185988.71361825]]\n"
     ]
    },
    {
     "data": {
      "image/png": "[encoded data removed]",
      "text/plain": [
       "<Figure size 432x288 with 4 Axes>"
      ]
     },
     "metadata": {
      "needs_background": "light"
     },
     "output_type": "display_data"
    }
   ],
   "source": [
    "img1 = PIL.Image.open('tmp.bmp').convert('L')\n",
    "img1 = np.array(img1)\n",
    "img1 = 256-img1\n",
    "img1 = img1.reshape(-1)\n",
    "img1loaded = (img1 - mean)/(std + 1e-5)\n",
    "\n",
    "res1 = my_first_model.forward(img1)+5\n",
    "res1_ = my_first_model.forward(img1loaded)+5\n",
    "\n",
    "plt.subplot(2, 2, 1)\n",
    "plt.imshow(img1.reshape(28,28))\n",
    "plt.title(res1)\n",
    "plt.subplot(2, 2, 2)\n",
    "plt.imshow(img1loaded.reshape(28,28))\n",
    "plt.title(res1_)\n",
    "\n",
    "img2 = PIL.Image.open('tmp2.bmp').convert('L')\n",
    "img2 = np.array(img2)\n",
    "img2 = 256-img2\n",
    "img2 = img2.reshape(-1)\n",
    "img2loaded = (img2 - mean)/(std + 1e-5)\n",
    "\n",
    "res2= my_first_model.forward(img2)+5\n",
    "res2_ = my_first_model.forward(img2loaded)+5\n",
    "\n",
    "plt.subplot(2, 2, 3)\n",
    "plt.imshow(img2.reshape(28,28))\n",
    "plt.title(res2)\n",
    "plt.subplot(2, 2, 4)\n",
    "plt.imshow(img2loaded.reshape(28,28))\n",
    "plt.title(res2_)\n",
    "\n",
    "print(res1_, res2_)"
   ]
  },
  {
   "cell_type": "code",
   "execution_count": null,
   "metadata": {},
   "outputs": [],
   "source": []
  },
  {
   "cell_type": "code",
   "execution_count": null,
   "metadata": {},
   "outputs": [],
   "source": []
  },
  {
   "cell_type": "code",
   "execution_count": null,
   "metadata": {},
   "outputs": [],
   "source": []
  }
 ],
 "metadata": {
  "kernelspec": {
   "display_name": "Python 3",
   "language": "python",
   "name": "python3"
  },
  "language_info": {
   "codemirror_mode": {
    "name": "ipython",
    "version": 3
   },
   "file_extension": ".py",
   "mimetype": "text/x-python",
   "name": "python",
   "nbconvert_exporter": "python",
   "pygments_lexer": "ipython3",
   "version": "3.7.1"
  }
 },
 "nbformat": 4,
 "nbformat_minor": 2
}
